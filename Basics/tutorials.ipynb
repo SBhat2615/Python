{
 "cells": [
  {
   "cell_type": "markdown",
   "id": "a88162fd",
   "metadata": {},
   "source": [
    "# COREY SCHAFER"
   ]
  },
  {
   "cell_type": "markdown",
   "id": "4c1d0cfb",
   "metadata": {},
   "source": [
    "## Basic"
   ]
  },
  {
   "cell_type": "markdown",
   "id": "78e5b9fb",
   "metadata": {},
   "source": [
    "https://www.youtube.com/watch?v=tJxcKyFMTGo"
   ]
  },
  {
   "cell_type": "code",
   "execution_count": 3,
   "id": "0db7c580",
   "metadata": {},
   "outputs": [
    {
     "name": "stdout",
     "output_type": "stream",
     "text": [
      "First Module's Name: __main__\n"
     ]
    }
   ],
   "source": [
    "print(\"First Module's Name: {}\".format(__name__))"
   ]
  },
  {
   "cell_type": "code",
   "execution_count": 7,
   "id": "d252fb8a",
   "metadata": {},
   "outputs": [
    {
     "name": "stdout",
     "output_type": "stream",
     "text": [
      "This will always be run\n",
      "First Module's Name: __main__\n"
     ]
    }
   ],
   "source": [
    "print('This will always be run')\n",
    "\n",
    "def main():\n",
    "    print(\"First Module's Name: {}\".format(__name__))\n",
    "    \n",
    "def second_main():\n",
    "    print('File is being imported')\n",
    "    print(\"First Module's Name: {}\".format(__name__))\n",
    "    \n",
    "if __name__ == '__main__':\n",
    "    # Will be printed when u run the main file (This/Present file) \n",
    "    main()\n",
    "    \n",
    "else:\n",
    "    # Will be printed when u import the file\n",
    "    second_main()"
   ]
  },
  {
   "cell_type": "markdown",
   "id": "8b749a43",
   "metadata": {},
   "source": [
    "`REASON TO BE USED: WHEN U WANT SOME PART OF PROGRAMS TO BE RUN ONLY WHEN IT'S IMPORTED AS MAIN FILE`"
   ]
  },
  {
   "cell_type": "code",
   "execution_count": null,
   "id": "0d35429b",
   "metadata": {},
   "outputs": [],
   "source": []
  },
  {
   "cell_type": "markdown",
   "id": "ec5782fd",
   "metadata": {},
   "source": [
    "## Reading and Writing to Files"
   ]
  },
  {
   "cell_type": "code",
   "execution_count": 3,
   "id": "c9fcf58a",
   "metadata": {},
   "outputs": [
    {
     "name": "stdout",
     "output_type": "stream",
     "text": [
      "r\n"
     ]
    }
   ],
   "source": [
    "f = open('text.txt', 'r')\n",
    "print(f.mode)\n",
    "f.close()"
   ]
  },
  {
   "cell_type": "markdown",
   "id": "ca24e280",
   "metadata": {},
   "source": [
    "`Using context manager`"
   ]
  },
  {
   "cell_type": "code",
   "execution_count": 17,
   "id": "65086fab",
   "metadata": {},
   "outputs": [
    {
     "name": "stdout",
     "output_type": "stream",
     "text": [
      "True\n"
     ]
    }
   ],
   "source": [
    "with open('text.txt', 'r') as f:\n",
    "    pass\n",
    "print(f.closed)"
   ]
  },
  {
   "cell_type": "code",
   "execution_count": 11,
   "id": "14ce5266",
   "metadata": {
    "scrolled": true
   },
   "outputs": [
    {
     "name": "stdout",
     "output_type": "stream",
     "text": [
      "1) This is a test file!\n",
      "2) With multiple lines of data...\n",
      "3) Third line\n",
      "4) Fourth line\n",
      "5) Fifth line\n",
      "6) Sixth line\n",
      "7) Seventh line\n",
      "8) Eight line\n",
      "9) Ninth line\n",
      "10) Tenth line\n"
     ]
    }
   ],
   "source": [
    "with open('text.txt', 'r') as f:\n",
    "    f_contents = f.read()\n",
    "    print(f_contents)"
   ]
  },
  {
   "cell_type": "code",
   "execution_count": 19,
   "id": "16dbce7b",
   "metadata": {
    "scrolled": true
   },
   "outputs": [
    {
     "name": "stdout",
     "output_type": "stream",
     "text": [
      "100\n",
      "1) This is a test file!\n",
      "2) With multiple lines of data...\n",
      "3) Third line\n",
      "4) Fourth line\n",
      "5) Fifth line\n"
     ]
    }
   ],
   "source": [
    "with open('text.txt', 'r') as f:\n",
    "    f_contents = f.read(100)\n",
    "    print(f.tell())     # Read 100 chars, pointer at 100th char loc\n",
    "    print(f_contents)"
   ]
  },
  {
   "cell_type": "code",
   "execution_count": 22,
   "id": "e9c49e0f",
   "metadata": {},
   "outputs": [
    {
     "name": "stdout",
     "output_type": "stream",
     "text": [
      "1) This is a test fi\n",
      "1) This is a test fi\n"
     ]
    }
   ],
   "source": [
    "with open('text.txt', 'r') as f:\n",
    "    f_contents = f.read(20)\n",
    "    print(f_contents)\n",
    "    f.seek(0)\n",
    "    print(f_contents)"
   ]
  },
  {
   "cell_type": "code",
   "execution_count": 9,
   "id": "4264cc3e",
   "metadata": {},
   "outputs": [
    {
     "name": "stdout",
     "output_type": "stream",
     "text": [
      "['1) This is a test file!\\n', '2) With multiple lines of data...\\n', '3) Third line\\n', '4) Fourth line\\n', '5) Fifth line\\n', '6) Sixth line\\n', '7) Seventh line\\n', '8) Eight line\\n', '9) Ninth line\\n', '10) Tenth line']\n"
     ]
    }
   ],
   "source": [
    "with open('text.txt', 'r') as f:\n",
    "    f_list = f.readlines()\n",
    "    print(f_list)"
   ]
  },
  {
   "cell_type": "code",
   "execution_count": 15,
   "id": "7badec1a",
   "metadata": {},
   "outputs": [
    {
     "name": "stdout",
     "output_type": "stream",
     "text": [
      "1) This is a test file!\n",
      "\n",
      "2) With multiple lines of data...\n",
      "\n",
      "3) Third line\n",
      "4) Fourth line\n",
      "5) Fifth line\n",
      "6) Sixth line\n",
      "7) Seventh line\n",
      "8) Eight line\n",
      "9) Ninth line\n",
      "10) Tenth line"
     ]
    }
   ],
   "source": [
    "with open('text.txt', 'r') as f:\n",
    "    f_line = f.readline()\n",
    "    print(f_line)\n",
    "    \n",
    "    f_line = f.readline()\n",
    "    print(f_line)\n",
    "    \n",
    "    for line in f:\n",
    "        print(line, end='')"
   ]
  },
  {
   "cell_type": "code",
   "execution_count": 3,
   "id": "c2c9633d",
   "metadata": {},
   "outputs": [],
   "source": [
    "with open('text2.txt', 'w') as f:\n",
    "    f.write('Test')\n",
    "    f.write('Test')\n",
    "    f.seek(0)\n",
    "    f.write('R')"
   ]
  },
  {
   "cell_type": "code",
   "execution_count": 4,
   "id": "18de6bf7",
   "metadata": {},
   "outputs": [],
   "source": [
    "with open('text.txt', 'r') as rf:\n",
    "    with open('text_copy.txt', 'w') as wf:\n",
    "        for line in rf:\n",
    "            wf.write(line)"
   ]
  },
  {
   "cell_type": "code",
   "execution_count": 6,
   "id": "4734e45f",
   "metadata": {},
   "outputs": [],
   "source": [
    "with open('cat.jpg', 'rb') as rf:\n",
    "    with open('cat_copy.jpg', 'wb') as wf:\n",
    "        for line in rf:\n",
    "            wf.write(line)"
   ]
  },
  {
   "cell_type": "code",
   "execution_count": 1,
   "id": "413d2288",
   "metadata": {},
   "outputs": [],
   "source": [
    "with open('cat.jpg', 'rb') as rf:\n",
    "    with open('cat_copy.jpg', 'wb') as wf:\n",
    "        chunkSize = 4096\n",
    "        rf_chunk = rf.read(chunkSize)\n",
    "        while len(rf_chunk) > 0:\n",
    "            wf.write(rf_chunk)\n",
    "            rf_chunk = rf.read(chunkSize)"
   ]
  },
  {
   "cell_type": "code",
   "execution_count": null,
   "id": "d3ad10a3",
   "metadata": {},
   "outputs": [],
   "source": []
  }
 ],
 "metadata": {
  "kernelspec": {
   "display_name": "Python 3 (ipykernel)",
   "language": "python",
   "name": "python3"
  },
  "language_info": {
   "codemirror_mode": {
    "name": "ipython",
    "version": 3
   },
   "file_extension": ".py",
   "mimetype": "text/x-python",
   "name": "python",
   "nbconvert_exporter": "python",
   "pygments_lexer": "ipython3",
   "version": "3.9.13"
  }
 },
 "nbformat": 4,
 "nbformat_minor": 5
}
