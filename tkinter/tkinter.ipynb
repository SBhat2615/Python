{
 "cells": [
  {
   "cell_type": "markdown",
   "id": "88cc7760",
   "metadata": {},
   "source": [
    "REFERENCES\n",
    "\n",
    "https://docs.python.org/3/library/tkinter.html\n",
    "\n",
    "https://www.geeksforgeeks.org/python-gui-tkinter/"
   ]
  },
  {
   "cell_type": "markdown",
   "id": "01632088",
   "metadata": {},
   "source": [
    "#### Intro"
   ]
  },
  {
   "cell_type": "code",
   "execution_count": 8,
   "id": "4f257808",
   "metadata": {},
   "outputs": [],
   "source": [
    "from tkinter import *\n",
    "root = Tk()\n",
    "# Define label\n",
    "myLabel = Label(root, text='Hello world')\n",
    "# Put it on screen\n",
    "myLabel.pack()\n",
    "root.mainloop()"
   ]
  },
  {
   "cell_type": "markdown",
   "id": "1bb9c0f7",
   "metadata": {},
   "source": [
    "#### Grid System"
   ]
  },
  {
   "cell_type": "code",
   "execution_count": 14,
   "id": "d06553f8",
   "metadata": {},
   "outputs": [],
   "source": [
    "from tkinter import *\n",
    "root = Tk()\n",
    "\n",
    "myLabel1 = Label(root, text='Hello')\n",
    "myLabel2 = Label(root, text='Hi')\n",
    "\n",
    "myLabel1.grid(row=0, column=0)\n",
    "myLabel2.grid(row=1, column=1)\n",
    "root.mainloop()"
   ]
  },
  {
   "cell_type": "markdown",
   "id": "fc573287",
   "metadata": {},
   "source": [
    "#### Buttons"
   ]
  },
  {
   "cell_type": "code",
   "execution_count": 7,
   "id": "0d29c35f",
   "metadata": {},
   "outputs": [],
   "source": [
    "from tkinter import *\n",
    "root = Tk()\n",
    "\n",
    "def myClick():\n",
    "    myLabel = Label(root, text='You clicked a button !!')\n",
    "    myLabel.pack()\n",
    "\n",
    "myButton = Button(root, text='Click Here!', padx=50, pady=50, command=myClick, fg=\"blue\", bg=\"#000000\") # Poor visbility at the corners\n",
    "myButton.pack()\n",
    "root.mainloop()"
   ]
  },
  {
   "cell_type": "markdown",
   "id": "0be7b6ed",
   "metadata": {},
   "source": [
    "#### Input Fields"
   ]
  },
  {
   "cell_type": "code",
   "execution_count": 8,
   "id": "c6b98308",
   "metadata": {},
   "outputs": [],
   "source": [
    "from tkinter import *\n",
    "root = Tk()\n",
    "# Define field\n",
    "ip = Entry(root)\n",
    "# Put it on screen\n",
    "ip.pack()\n",
    "\n",
    "root.mainloop()"
   ]
  },
  {
   "cell_type": "markdown",
   "id": "98898edd",
   "metadata": {},
   "source": [
    "#### "
   ]
  },
  {
   "cell_type": "code",
   "execution_count": null,
   "id": "e2f17af4",
   "metadata": {},
   "outputs": [],
   "source": []
  },
  {
   "cell_type": "markdown",
   "id": "0210fbf8",
   "metadata": {},
   "source": [
    "#### "
   ]
  },
  {
   "cell_type": "code",
   "execution_count": null,
   "id": "3fa6f3da",
   "metadata": {},
   "outputs": [],
   "source": []
  }
 ],
 "metadata": {
  "kernelspec": {
   "display_name": "Python 3.9 (tensorflow)",
   "language": "python",
   "name": "tensorflow"
  },
  "language_info": {
   "codemirror_mode": {
    "name": "ipython",
    "version": 3
   },
   "file_extension": ".py",
   "mimetype": "text/x-python",
   "name": "python",
   "nbconvert_exporter": "python",
   "pygments_lexer": "ipython3",
   "version": "3.9.10"
  }
 },
 "nbformat": 4,
 "nbformat_minor": 5
}
