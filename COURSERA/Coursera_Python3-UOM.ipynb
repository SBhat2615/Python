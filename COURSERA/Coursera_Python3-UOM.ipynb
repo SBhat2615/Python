{
 "cells": [
  {
   "cell_type": "code",
   "execution_count": null,
   "id": "4fb47b61",
   "metadata": {},
   "outputs": [],
   "source": []
  },
  {
   "cell_type": "markdown",
   "id": "8385cf79",
   "metadata": {},
   "source": [
    "### Turtle Graphics"
   ]
  },
  {
   "cell_type": "code",
   "execution_count": null,
   "id": "fa1a4e2c",
   "metadata": {},
   "outputs": [],
   "source": []
  },
  {
   "cell_type": "code",
   "execution_count": null,
   "id": "f1dfa90a",
   "metadata": {},
   "outputs": [],
   "source": [
    "import turtle\n",
    "\n",
    "wn = turtle.Screen()\n",
    "wn.bgcolor('red')\n",
    "\n",
    "tt = turtle.Turtle()\n",
    "tt.color('blue')\n",
    "#tt.pencolor('green')\n",
    "tt.pensize(5)"
   ]
  },
  {
   "cell_type": "code",
   "execution_count": null,
   "id": "704e1c89",
   "metadata": {},
   "outputs": [],
   "source": [
    "tt.forward(-100)\n",
    "tt.left(90)\n",
    "tt.forward(-100)\n",
    "tt.left(90)"
   ]
  },
  {
   "cell_type": "code",
   "execution_count": null,
   "id": "b1871983",
   "metadata": {},
   "outputs": [],
   "source": [
    "distance = 50\n",
    "angle = 90\n",
    "for i in range(10):\n",
    "    tt.forward(distance)\n",
    "    tt.left(angle)\n",
    "    distance += 10\n",
    "    angle -= 5"
   ]
  },
  {
   "cell_type": "code",
   "execution_count": null,
   "id": "04246a84",
   "metadata": {},
   "outputs": [],
   "source": []
  },
  {
   "cell_type": "code",
   "execution_count": null,
   "id": "6e7ba647",
   "metadata": {},
   "outputs": [],
   "source": [
    "import turtle\n",
    "\n",
    "wn = turtle.Screen()\n",
    "\n",
    "tt = turtle.Turtle()\n",
    "tt.shape('turtle')"
   ]
  },
  {
   "cell_type": "code",
   "execution_count": null,
   "id": "0be3d838",
   "metadata": {},
   "outputs": [],
   "source": [
    "distance = 40\n",
    "angle = 25\n",
    "tt.up()           # put the marker up\n",
    "for i in range(15):\n",
    "    tt.stamp()    # press it once\n",
    "    tt.forward(distance)\n",
    "    tt.right(angle)\n",
    "    distance += 5"
   ]
  },
  {
   "cell_type": "code",
   "execution_count": null,
   "id": "62cb9980",
   "metadata": {},
   "outputs": [],
   "source": [
    "#turtle.done()\n",
    "wn.exitonclick()"
   ]
  },
  {
   "cell_type": "code",
   "execution_count": null,
   "id": "6119e3a2",
   "metadata": {},
   "outputs": [],
   "source": [
    "# Pentagon\n",
    "\n",
    "import turtle\n",
    "\n",
    "wn = turtle.Screen()\n",
    "tt = turtle.Turtle()\n",
    "tt.speed(0)\n",
    "def draw():\n",
    "    tt.forward(50)\n",
    "    tt.left(72)\n",
    "\n",
    "draw()\n",
    "draw()\n",
    "draw()\n",
    "draw()\n",
    "draw()"
   ]
  },
  {
   "cell_type": "code",
   "execution_count": null,
   "id": "9a75a725",
   "metadata": {},
   "outputs": [],
   "source": [
    "# Different\n",
    "\n",
    "import turtle\n",
    "wn = turtle.Screen()\n",
    "star = turtle.Turtle()\n",
    " \n",
    "star.right(75)\n",
    "star.forward(100)\n",
    " \n",
    "for i in range(4):\n",
    "    star.right(144)\n",
    "    star.forward(100)\n",
    "     \n",
    "turtle.done()"
   ]
  },
  {
   "cell_type": "markdown",
   "id": "e271b685",
   "metadata": {},
   "source": [
    "### Importing Modules"
   ]
  },
  {
   "cell_type": "code",
   "execution_count": null,
   "id": "0be8a32b",
   "metadata": {},
   "outputs": [],
   "source": [
    "#import random\n",
    "from random import random, randrange\n",
    "\n",
    "#num = random.random()\n",
    "num = random()\n",
    "print(num)\n",
    "#num1 = randrange(1,7)\n",
    "num1 = randrange(1,7)\n",
    "print(num1)"
   ]
  },
  {
   "cell_type": "markdown",
   "id": "80c95a1f",
   "metadata": {},
   "source": [
    "### Lists and Strings"
   ]
  },
  {
   "cell_type": "code",
   "execution_count": null,
   "id": "6b1da692",
   "metadata": {},
   "outputs": [],
   "source": [
    "t = (1, 2, [30, 40])\n",
    "t[2] += [50, 60]\n",
    "print(t)"
   ]
  },
  {
   "cell_type": "code",
   "execution_count": null,
   "id": "700f5223",
   "metadata": {},
   "outputs": [],
   "source": [
    "print(t)"
   ]
  },
  {
   "cell_type": "code",
   "execution_count": null,
   "id": "96bfb517",
   "metadata": {},
   "outputs": [],
   "source": [
    "b = \"My, what a lovely day\"\n",
    "x = b.split(',')\n",
    "z = \"\".join(x)\n",
    "y = z.split()\n",
    "a = \"\".join(y)\n",
    "\n",
    "print(x, z, y, a, sep='\\n')"
   ]
  },
  {
   "cell_type": "code",
   "execution_count": null,
   "id": "402d4107",
   "metadata": {},
   "outputs": [],
   "source": []
  },
  {
   "cell_type": "markdown",
   "id": "a96984f8",
   "metadata": {},
   "source": [
    "### Conditionals and boolean expressions"
   ]
  },
  {
   "cell_type": "code",
   "execution_count": null,
   "id": "a0024634",
   "metadata": {},
   "outputs": [],
   "source": [
    "import turtle\n",
    "wn = turtle.Screen()\n",
    "\n",
    "amy = turtle.Turtle()\n",
    "amy.pencolor(\"Pink\")\n",
    "amy.right(170)\n",
    "\n",
    "colors = [\"Purple\", \"Yellow\", \"Orange\", \"Pink\", \"Orange\", \"Yellow\", \"Purple\", \"Orange\", \"Pink\", \"Pink\", \"Orange\", \"Yellow\", \"Purple\", \"Orange\", \"Purple\", \"Yellow\", \"Orange\", \"Pink\", \"Orange\", \"Purple\", \"Purple\", \"Yellow\", \"Orange\", \"Pink\", \"Orange\", \"Yellow\", \"Purple\", \"Yellow\"]\n",
    "\n",
    "\n",
    "for color in colors:\n",
    "    if amy.pencolor() == \"Purple\":\n",
    "        amy.forward(50)\n",
    "        amy.right(59)\n",
    "    elif amy.pencolor() == \"Yellow\":\n",
    "        amy.forward(65)\n",
    "        amy.left(98)\n",
    "    elif amy.pencolor() == \"Orange\":\n",
    "        amy.forward(30)\n",
    "        amy.left(60)\n",
    "    elif amy.pencolor() == \"Pink\":\n",
    "        amy.forward(50)\n",
    "        amy.right(57)\n",
    "\n",
    "    amy.pencolor(color)"
   ]
  },
  {
   "cell_type": "code",
   "execution_count": null,
   "id": "dcf96d04",
   "metadata": {},
   "outputs": [],
   "source": []
  },
  {
   "cell_type": "markdown",
   "id": "cd54ab61",
   "metadata": {},
   "source": [
    "### ..."
   ]
  },
  {
   "cell_type": "code",
   "execution_count": null,
   "id": "47ea2a86",
   "metadata": {},
   "outputs": [],
   "source": []
  },
  {
   "cell_type": "code",
   "execution_count": null,
   "id": "b6500d31",
   "metadata": {},
   "outputs": [],
   "source": []
  },
  {
   "cell_type": "code",
   "execution_count": null,
   "id": "af82588d",
   "metadata": {},
   "outputs": [],
   "source": []
  }
 ],
 "metadata": {
  "kernelspec": {
   "display_name": "Python 3.9 (tensorflow)",
   "language": "python",
   "name": "tensorflow"
  },
  "language_info": {
   "codemirror_mode": {
    "name": "ipython",
    "version": 3
   },
   "file_extension": ".py",
   "mimetype": "text/x-python",
   "name": "python",
   "nbconvert_exporter": "python",
   "pygments_lexer": "ipython3",
   "version": "3.9.10"
  }
 },
 "nbformat": 4,
 "nbformat_minor": 5
}
