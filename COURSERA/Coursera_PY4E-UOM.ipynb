{
 "cells": [
  {
   "cell_type": "code",
   "execution_count": null,
   "id": "076a7307",
   "metadata": {},
   "outputs": [],
   "source": []
  },
  {
   "cell_type": "markdown",
   "id": "2c644cc3",
   "metadata": {},
   "source": [
    "## FILES"
   ]
  },
  {
   "cell_type": "code",
   "execution_count": 3,
   "id": "36dc9721",
   "metadata": {},
   "outputs": [
    {
     "name": "stdout",
     "output_type": "stream",
     "text": [
      "<_io.TextIOWrapper name='text.txt' mode='r' encoding='UTF-8'>\n",
      "<class '_io.TextIOWrapper'>\n",
      "\n",
      "Hello\n",
      "Hi\n"
     ]
    }
   ],
   "source": [
    "fhand = open('text.txt')\n",
    "print(fhand, type(fhand), sep='\\n', end='\\n\\n')\n",
    "for line in fhand:\n",
    "    if line.startswith('H'): \n",
    "        print(line, end='')"
   ]
  },
  {
   "cell_type": "code",
   "execution_count": 5,
   "id": "4e024d09",
   "metadata": {},
   "outputs": [
    {
     "name": "stdout",
     "output_type": "stream",
     "text": [
      "Hello\n",
      "World\n",
      "\n",
      "Hi\n",
      "Guys\n",
      "<class 'str'>\n",
      "\n",
      "\n",
      "\n",
      "\n",
      "Hello\n",
      "Worl\n"
     ]
    }
   ],
   "source": [
    "fhand = open('text.txt')\n",
    "inp = fhand.read()\n",
    "print(inp, type(inp), sep='\\n', end='\\n\\n\\n\\n\\n')\n",
    "print(inp[:10])"
   ]
  },
  {
   "cell_type": "markdown",
   "id": "802dc504",
   "metadata": {},
   "source": [
    "## LISTS"
   ]
  },
  {
   "cell_type": "code",
   "execution_count": 20,
   "id": "7a807fd5",
   "metadata": {},
   "outputs": [
    {
     "name": "stdout",
     "output_type": "stream",
     "text": [
      "Enter a number: 2\n",
      "Enter a number: 3\n",
      "Enter a number: 4\n",
      "Enter a number: done\n",
      "[2.0, 3.0, 4.0]\n",
      "3.0\n"
     ]
    }
   ],
   "source": [
    "numList = list()\n",
    "while True:\n",
    "    num = input('Enter a number: ')\n",
    "    if num == 'done':\n",
    "        break\n",
    "    num = float(num)\n",
    "    numList.append(num)\n",
    "    \n",
    "print(numList)\n",
    "# sum method\n",
    "average = sum(numList)/len(numList)\n",
    "print(average)"
   ]
  },
  {
   "cell_type": "code",
   "execution_count": 22,
   "id": "26311492",
   "metadata": {},
   "outputs": [
    {
     "data": {
      "text/plain": [
       "[0, 1, 2, 3, 4]"
      ]
     },
     "execution_count": 22,
     "metadata": {},
     "output_type": "execute_result"
    }
   ],
   "source": [
    "list(range(5))"
   ]
  },
  {
   "cell_type": "code",
   "execution_count": 23,
   "id": "6450aebb",
   "metadata": {},
   "outputs": [
    {
     "ename": "TypeError",
     "evalue": "'str' object does not support item assignment",
     "output_type": "error",
     "traceback": [
      "\u001b[0;31m---------------------------------------------------------------------------\u001b[0m",
      "\u001b[0;31mTypeError\u001b[0m                                 Traceback (most recent call last)",
      "Input \u001b[0;32mIn [23]\u001b[0m, in \u001b[0;36m<module>\u001b[0;34m\u001b[0m\n\u001b[1;32m      1\u001b[0m fruit \u001b[38;5;241m=\u001b[39m \u001b[38;5;124m'\u001b[39m\u001b[38;5;124mBanana\u001b[39m\u001b[38;5;124m'\u001b[39m\n\u001b[0;32m----> 2\u001b[0m fruit[\u001b[38;5;241m0\u001b[39m] \u001b[38;5;241m=\u001b[39m \u001b[38;5;124m'\u001b[39m\u001b[38;5;124mb\u001b[39m\u001b[38;5;124m'\u001b[39m\n\u001b[1;32m      3\u001b[0m \u001b[38;5;28mprint\u001b[39m(fruit)\n",
      "\u001b[0;31mTypeError\u001b[0m: 'str' object does not support item assignment"
     ]
    }
   ],
   "source": [
    "fruit = 'Banana'\n",
    "fruit[0] = 'b'\n",
    "print(fruit)"
   ]
  },
  {
   "cell_type": "markdown",
   "id": "df77f33d",
   "metadata": {},
   "source": [
    "## DICTIONARIES"
   ]
  },
  {
   "cell_type": "code",
   "execution_count": 38,
   "id": "404b0c56",
   "metadata": {
    "scrolled": true
   },
   "outputs": [
    {
     "name": "stdout",
     "output_type": "stream",
     "text": [
      "Enter a string: the car is on the car on and on\n",
      "\n",
      "the\n",
      "car\n",
      "is\n",
      "on\n",
      "and\n",
      "\n",
      "the 2\n",
      "car 2\n",
      "is 1\n",
      "on 3\n",
      "and 1\n"
     ]
    }
   ],
   "source": [
    "counts = dict()\n",
    "sentence = input('Enter a string: ')\n",
    "words = sentence.split()\n",
    "\n",
    "for word in words:\n",
    "    # get method\n",
    "    counts[word] = counts.get(word, 0) + 1\n",
    "print()\n",
    "for x in counts:\n",
    "    print(x)\n",
    "print()\n",
    "for key, value in counts.items():\n",
    "    print(key, value)\n"
   ]
  },
  {
   "cell_type": "code",
   "execution_count": 52,
   "id": "493d443b",
   "metadata": {},
   "outputs": [
    {
     "name": "stdout",
     "output_type": "stream",
     "text": [
      "{'the': 2, 'car': 2, 'is': 1, 'on': 3, 'and': 1}\n",
      "dict_items([('the', 2), ('car', 2), ('is', 1), ('on', 3), ('and', 1)])\n",
      "[('the', 2), ('car', 2), ('is', 1), ('on', 3), ('and', 1)]\n",
      "['the', 'car', 'is', 'on', 'and']\n",
      "dict_values([2, 2, 1, 3, 1])\n"
     ]
    }
   ],
   "source": [
    "print(counts)\n",
    "print(counts.items())\n",
    "print(list(counts.items()))\n",
    "print(list(counts.keys()))\n",
    "print(counts.values())"
   ]
  },
  {
   "cell_type": "markdown",
   "id": "4ceb08a2",
   "metadata": {},
   "source": [
    "## TUPLES"
   ]
  },
  {
   "cell_type": "code",
   "execution_count": 48,
   "id": "c80e4766",
   "metadata": {},
   "outputs": [
    {
     "name": "stdout",
     "output_type": "stream",
     "text": [
      "('and', 1)\n",
      "('car', 2)\n",
      "('is', 1)\n",
      "('on', 3)\n",
      "('the', 2)\n",
      "\n",
      "(3, 'on')\n",
      "(2, 'the')\n",
      "(2, 'car')\n",
      "(1, 'is')\n",
      "(1, 'and')\n"
     ]
    }
   ],
   "source": [
    "# Sorted method, sorts using key order\n",
    "for x in sorted(counts.items()):\n",
    "    print(x)\n",
    "print()\n",
    "\n",
    "# Sort by value\n",
    "tmp = list()\n",
    "for k,v in counts.items():\n",
    "    tmp.append((v,k))\n",
    "tmp = sorted(tmp, reverse=True)\n",
    "for tup in tmp:\n",
    "    print(tup)"
   ]
  },
  {
   "cell_type": "code",
   "execution_count": 50,
   "id": "287463cb",
   "metadata": {},
   "outputs": [
    {
     "name": "stdout",
     "output_type": "stream",
     "text": [
      "[(3, 'on'), (2, 'the'), (2, 'car'), (1, 'is'), (1, 'and')]\n"
     ]
    }
   ],
   "source": [
    "# List comprehension\n",
    "\n",
    "print(sorted([(v, k) for k, v in counts.items()], reverse=True))"
   ]
  },
  {
   "cell_type": "code",
   "execution_count": null,
   "id": "8aa9b51d",
   "metadata": {},
   "outputs": [],
   "source": []
  },
  {
   "cell_type": "markdown",
   "id": "7ab10123",
   "metadata": {},
   "source": [
    "## REGEX"
   ]
  },
  {
   "cell_type": "markdown",
   "id": "67cfd98e",
   "metadata": {},
   "source": [
    "https://www.w3schools.com/python/python_regex.asp"
   ]
  },
  {
   "cell_type": "code",
   "execution_count": 7,
   "id": "30ec2d5b",
   "metadata": {},
   "outputs": [
    {
     "name": "stdout",
     "output_type": "stream",
     "text": [
      "<re.Match object; span=(0, 17), match='The rain in Spain'>\n",
      "0\n",
      "5\n"
     ]
    }
   ],
   "source": [
    "import re\n",
    "str = \"The rain in Spain\"\n",
    "str2 = \"heMo\"\n",
    "x = re.search('^The.*Spain$', str)\n",
    "print(x)\n",
    "x = re.search('he[a-mA-M]o', str2)\n",
    "print(x.start())\n",
    "x = re.search('ai', str)\n",
    "print(x.start())"
   ]
  },
  {
   "cell_type": "code",
   "execution_count": 56,
   "id": "2e508b1c",
   "metadata": {
    "scrolled": true
   },
   "outputs": [
    {
     "name": "stdout",
     "output_type": "stream",
     "text": [
      "['ain', 'ain']\n",
      "['2', '24', '84234']\n",
      "['a', 'u', 'e', 'a', 'e', 'a']\n",
      "['From: siddi:']\n",
      "['From:']\n"
     ]
    }
   ],
   "source": [
    "import re\n",
    "str = \"The rain in Spain\"\n",
    "x = re.findall('ain', str)\n",
    "print(x)\n",
    "\n",
    "str = \"My 2 fav numbers are 24 and 84234\"\n",
    "x = re.findall('[0-9]+', str)\n",
    "print(x)\n",
    "x = re.findall('[aeiou]+', str)\n",
    "print(x)\n",
    "\n",
    "# GREEDY MATCHING\n",
    "str = 'From: siddi: hello'\n",
    "x = re.findall('^F.+:', str)\n",
    "print(x)\n",
    "\n",
    "# NON-GREEDY MATCHING\n",
    "x = re.findall('^F.+?:', str)\n",
    "print(x)"
   ]
  },
  {
   "cell_type": "code",
   "execution_count": 90,
   "id": "86872bf1",
   "metadata": {},
   "outputs": [
    {
     "name": "stdout",
     "output_type": "stream",
     "text": [
      "['siddhartha@gmail.com']\n",
      "['a@g']\n",
      "['siddhartha@gmail.com']\n",
      "[]\n"
     ]
    }
   ],
   "source": [
    "import re\n",
    "str = 'From siddhartha@gmail.com Jan 5 Sat'\n",
    "# Check for 1 or more, non-blank character\n",
    "x = re.findall('\\S+@\\S+', str)\n",
    "print(x)\n",
    "x = re.findall('\\S@\\S', str)\n",
    "print(x)\n",
    "# Paranthesis tell where to start & stop, include whatever inside parenthesis\n",
    "x = re.findall('^From (\\S+@\\S+)', str)\n",
    "print(x)\n",
    "# Check for blank character\n",
    "x = re.findall('\\s+@\\s+', str)\n",
    "print(x)\n"
   ]
  },
  {
   "cell_type": "code",
   "execution_count": 50,
   "id": "23eb1462",
   "metadata": {},
   "outputs": [
    {
     "name": "stdout",
     "output_type": "stream",
     "text": [
      "['The', 'rain', 'in', 'Spain']\n",
      "['The', 'rain in Spain']\n"
     ]
    }
   ],
   "source": [
    "import re\n",
    "str = \"The rain in Spain\"\n",
    "x = re.split(\"\\s\", str)\n",
    "print(x)\n",
    "x = re.split(\"\\s\", str, 1)\n",
    "print(x)\n"
   ]
  },
  {
   "cell_type": "code",
   "execution_count": 83,
   "id": "b98402a2",
   "metadata": {},
   "outputs": [
    {
     "name": "stdout",
     "output_type": "stream",
     "text": [
      "15\n",
      "25\n",
      "gmail.com\n",
      "gmail.com\n",
      "From siddhartha@gmail.com Jan 5 Sat\n",
      "['gmail.com']\n"
     ]
    }
   ],
   "source": [
    "str = 'From siddhartha@gmail.com Jan 5 Sat'\n",
    "\n",
    "# String slicing\n",
    "pos1 = str.find('@')\n",
    "print(pos1)\n",
    "# Find blank starting from pos1\n",
    "pos2 = str.find(' ', pos1)\n",
    "print(pos2)\n",
    "txt = str[pos1+1:pos2]\n",
    "print(txt)\n",
    "\n",
    "# String slicing using list\n",
    "words = str.split()\n",
    "email = words[1]\n",
    "txt2 = email.split('@')\n",
    "print(txt2[1])\n",
    "\n",
    "# USING REGEX\n",
    "import re\n",
    "print(str)\n",
    "# Anything but not space  { [^arn] == Returns a match for any character EXCEPT a, r, and n }\n",
    "txt3 = re.findall('@([^ ]*)' ,str)\n",
    "print(txt3)"
   ]
  },
  {
   "cell_type": "code",
   "execution_count": 89,
   "id": "11c1befa",
   "metadata": {},
   "outputs": [
    {
     "name": "stdout",
     "output_type": "stream",
     "text": [
      "['$10.sdf00']\n"
     ]
    }
   ],
   "source": [
    "# Escape Character\n",
    "\n",
    "import re\n",
    "str = 'I bought apple for $10.00'\n",
    "x = re.findall('(\\$[0-9.]+)', str)\n",
    "print(x)"
   ]
  },
  {
   "cell_type": "code",
   "execution_count": 94,
   "id": "51e752af",
   "metadata": {},
   "outputs": [
    {
     "name": "stdout",
     "output_type": "stream",
     "text": [
      "463133\n"
     ]
    }
   ],
   "source": [
    "## ASSIGNMENTS\n",
    "\n",
    "import re\n",
    "fhand = open('regex_sum_1131217.txt')\n",
    "sum = 0\n",
    "for line in fhand:\n",
    "    line = line.rstrip()\n",
    "    numList = re.findall('[0-9]+', line)\n",
    "    for number in numList:\n",
    "        sum += int(number)\n",
    "print(sum)\n"
   ]
  },
  {
   "cell_type": "markdown",
   "id": "70bf5826",
   "metadata": {},
   "source": [
    "## WEB SCRAPING"
   ]
  },
  {
   "cell_type": "code",
   "execution_count": 96,
   "id": "2916a914",
   "metadata": {},
   "outputs": [
    {
     "name": "stdout",
     "output_type": "stream",
     "text": [
      "97 65\n"
     ]
    }
   ],
   "source": [
    "print(ord('a'), ord('A'))"
   ]
  },
  {
   "cell_type": "code",
   "execution_count": 14,
   "id": "34efab85",
   "metadata": {},
   "outputs": [
    {
     "name": "stdout",
     "output_type": "stream",
     "text": [
      "b'123' <class 'bytes'>\n",
      "sdf <class 'str'>\n",
      "sdf <class 'str'>\n"
     ]
    }
   ],
   "source": [
    "x = b'123'\n",
    "print(x, type(x))\n",
    "y = 'sdf'\n",
    "print(y, type(y))"
   ]
  },
  {
   "cell_type": "code",
   "execution_count": null,
   "id": "34db3bf6",
   "metadata": {},
   "outputs": [],
   "source": [
    "# BYTE encode and UTF decode"
   ]
  },
  {
   "cell_type": "code",
   "execution_count": 19,
   "id": "97759fb0",
   "metadata": {},
   "outputs": [
    {
     "name": "stdout",
     "output_type": "stream",
     "text": [
      "But soft what light through yonder window breaks\t<class 'str'>\n",
      "b'But soft what light through yonder window breaks\\n'\t<class 'bytes'>\n",
      "\n",
      "It is the east and Juliet is the sun\t<class 'str'>\n",
      "b'It is the east and Juliet is the sun\\n'\t<class 'bytes'>\n",
      "\n",
      "Arise fair sun and kill the envious moon\t<class 'str'>\n",
      "b'Arise fair sun and kill the envious moon\\n'\t<class 'bytes'>\n",
      "\n",
      "Who is already sick and pale with grief\t<class 'str'>\n",
      "b'Who is already sick and pale with grief\\n'\t<class 'bytes'>\n",
      "\n"
     ]
    }
   ],
   "source": [
    "import urllib.request, urllib.parse, urllib.error\n",
    "\n",
    "fhand = urllib.request.urlopen('http://data.pr4e.org/romeo.txt')\n",
    "for line in fhand:\n",
    "    print(line.decode().strip(), type(line.decode()), sep='\\t')\n",
    "    print(line, type(line), sep='\\t', end='\\n\\n')"
   ]
  },
  {
   "cell_type": "code",
   "execution_count": 1,
   "id": "71e1efc7",
   "metadata": {},
   "outputs": [
    {
     "name": "stdout",
     "output_type": "stream",
     "text": [
      "Requirement already satisfied: beautifulsoup4 in /opt/homebrew/Caskroom/miniforge/base/lib/python3.9/site-packages (4.11.1)\n",
      "Requirement already satisfied: soupsieve>1.2 in /opt/homebrew/Caskroom/miniforge/base/lib/python3.9/site-packages (from beautifulsoup4) (2.3.2.post1)\n",
      "Requirement already satisfied: lxml in /opt/homebrew/Caskroom/miniforge/base/lib/python3.9/site-packages (4.9.1)\n",
      "Requirement already satisfied: html5lib in /opt/homebrew/Caskroom/miniforge/base/lib/python3.9/site-packages (1.1)\n",
      "Requirement already satisfied: six>=1.9 in /opt/homebrew/Caskroom/miniforge/base/lib/python3.9/site-packages (from html5lib) (1.16.0)\n",
      "Requirement already satisfied: webencodings in /opt/homebrew/Caskroom/miniforge/base/lib/python3.9/site-packages (from html5lib) (0.5.1)\n"
     ]
    }
   ],
   "source": [
    "!pip install beautifulsoup4\n",
    "!pip install lxml\n",
    "!pip install html5lib"
   ]
  },
  {
   "cell_type": "code",
   "execution_count": 5,
   "id": "7c81d509",
   "metadata": {},
   "outputs": [
    {
     "name": "stdout",
     "output_type": "stream",
     "text": [
      "Enter URL - https://www.dr-chuck.com/page1.htm\n",
      "http://www.dr-chuck.com/page2.htm\n"
     ]
    }
   ],
   "source": [
    "import urllib.request, urllib.parse, urllib.error\n",
    "from bs4 import BeautifulSoup\n",
    "\n",
    "url = input('Enter URL - ')\n",
    "html = urllib.request.urlopen(url).read()\n",
    "soup = BeautifulSoup(html, 'html.parser')\n",
    "\n",
    "# retrieve all anchor tags\n",
    "tags = soup('a')\n",
    "for tag in tags:\n",
    "    print(tag.get('href', None))"
   ]
  },
  {
   "cell_type": "code",
   "execution_count": null,
   "id": "dfd4f102",
   "metadata": {},
   "outputs": [],
   "source": []
  },
  {
   "cell_type": "code",
   "execution_count": null,
   "id": "e8ecf2c9",
   "metadata": {},
   "outputs": [],
   "source": []
  },
  {
   "cell_type": "code",
   "execution_count": null,
   "id": "e2ce7875",
   "metadata": {},
   "outputs": [],
   "source": []
  },
  {
   "cell_type": "code",
   "execution_count": null,
   "id": "dd26956e",
   "metadata": {},
   "outputs": [],
   "source": []
  },
  {
   "cell_type": "markdown",
   "id": "32e89273",
   "metadata": {},
   "source": [
    "## OOP"
   ]
  },
  {
   "cell_type": "code",
   "execution_count": 4,
   "id": "91cd8ff5",
   "metadata": {
    "collapsed": true
   },
   "outputs": [
    {
     "name": "stdout",
     "output_type": "stream",
     "text": [
      "<class 'str'>\n",
      "['__add__', '__class__', '__contains__', '__delattr__', '__dir__', '__doc__', '__eq__', '__format__', '__ge__', '__getattribute__', '__getitem__', '__getnewargs__', '__gt__', '__hash__', '__init__', '__init_subclass__', '__iter__', '__le__', '__len__', '__lt__', '__mod__', '__mul__', '__ne__', '__new__', '__reduce__', '__reduce_ex__', '__repr__', '__rmod__', '__rmul__', '__setattr__', '__sizeof__', '__str__', '__subclasshook__', 'capitalize', 'casefold', 'center', 'count', 'encode', 'endswith', 'expandtabs', 'find', 'format', 'format_map', 'index', 'isalnum', 'isalpha', 'isascii', 'isdecimal', 'isdigit', 'isidentifier', 'islower', 'isnumeric', 'isprintable', 'isspace', 'istitle', 'isupper', 'join', 'ljust', 'lower', 'lstrip', 'maketrans', 'partition', 'removeprefix', 'removesuffix', 'replace', 'rfind', 'rindex', 'rjust', 'rpartition', 'rsplit', 'rstrip', 'split', 'splitlines', 'startswith', 'strip', 'swapcase', 'title', 'translate', 'upper', 'zfill']\n",
      "\n",
      "<class 'float'>\n",
      "['__abs__', '__add__', '__bool__', '__ceil__', '__class__', '__delattr__', '__dir__', '__divmod__', '__doc__', '__eq__', '__float__', '__floor__', '__floordiv__', '__format__', '__ge__', '__getattribute__', '__getformat__', '__getnewargs__', '__gt__', '__hash__', '__init__', '__init_subclass__', '__int__', '__le__', '__lt__', '__mod__', '__mul__', '__ne__', '__neg__', '__new__', '__pos__', '__pow__', '__radd__', '__rdivmod__', '__reduce__', '__reduce_ex__', '__repr__', '__rfloordiv__', '__rmod__', '__rmul__', '__round__', '__rpow__', '__rsub__', '__rtruediv__', '__setattr__', '__setformat__', '__sizeof__', '__str__', '__sub__', '__subclasshook__', '__truediv__', '__trunc__', 'as_integer_ratio', 'conjugate', 'fromhex', 'hex', 'imag', 'is_integer', 'real']\n",
      "\n",
      "<class 'list'>\n",
      "['__add__', '__class__', '__class_getitem__', '__contains__', '__delattr__', '__delitem__', '__dir__', '__doc__', '__eq__', '__format__', '__ge__', '__getattribute__', '__getitem__', '__gt__', '__hash__', '__iadd__', '__imul__', '__init__', '__init_subclass__', '__iter__', '__le__', '__len__', '__lt__', '__mul__', '__ne__', '__new__', '__reduce__', '__reduce_ex__', '__repr__', '__reversed__', '__rmul__', '__setattr__', '__setitem__', '__sizeof__', '__str__', '__subclasshook__', 'append', 'clear', 'copy', 'count', 'extend', 'index', 'insert', 'pop', 'remove', 'reverse', 'sort']\n",
      "\n"
     ]
    }
   ],
   "source": [
    "x = 'string'\n",
    "print(type(x), dir(x), sep='\\n')\n",
    "print()\n",
    "y = 4.5\n",
    "print(type(y), dir(y), sep='\\n')\n",
    "print()\n",
    "z = list()\n",
    "print(type(z), dir(z), sep='\\n')\n",
    "print()"
   ]
  },
  {
   "cell_type": "code",
   "execution_count": 23,
   "id": "b7bb1d23",
   "metadata": {},
   "outputs": [
    {
     "name": "stdout",
     "output_type": "stream",
     "text": [
      "I'm Constructed at, Value =  0\n",
      "I'm Destructed at, Value =  3\n",
      "Value =  1\n",
      "Value =  2\n",
      "Value =  3\n"
     ]
    }
   ],
   "source": [
    "class Calculation:\n",
    "    number = 0\n",
    "    # Constructor\n",
    "    def __init__(self):\n",
    "        print(\"I'm Constructed at, Value = \", self.number)\n",
    "    # Method\n",
    "    def party(self):\n",
    "        self.number = self.number + 1\n",
    "        print(\"Value = \", self.number)\n",
    "    # Destructor\n",
    "    def __del__(self):\n",
    "        # Called during destruction of the object\n",
    "        print(\"I'm Destructed at, Value = \", self.number)\n",
    "        \n",
    "an = Calculation()\n",
    "an.party()\n",
    "an.party()\n",
    "an.party()\n",
    "#an = 30"
   ]
  },
  {
   "cell_type": "code",
   "execution_count": 27,
   "id": "2ad5e2ac",
   "metadata": {},
   "outputs": [
    {
     "name": "stdout",
     "output_type": "stream",
     "text": [
      "In Construtor, Value =  0\n",
      "siddi , Value =  1\n",
      "\n",
      "In Construtor, Value =  0\n",
      "buddi , Value =  1\n",
      "siddi , Value =  2\n"
     ]
    }
   ],
   "source": [
    "class Party:\n",
    "    name = \"\"\n",
    "    number = 0\n",
    "    def __init__(self, x):\n",
    "        #name = x\n",
    "        self.name = x\n",
    "        print(\"In Construtor, Value = \", self.number)\n",
    "    # Method\n",
    "    def party(self):\n",
    "        self.number = self.number + 1\n",
    "        print(self.name, \", Value = \", self.number)\n",
    "        \n",
    "s = Party(\"siddi\")\n",
    "s.party()\n",
    "\n",
    "print()\n",
    "\n",
    "b = Party(\"buddi\")\n",
    "b.party()\n",
    "s.party()"
   ]
  },
  {
   "cell_type": "markdown",
   "id": "d3292027",
   "metadata": {},
   "source": [
    "INHERITANCE"
   ]
  },
  {
   "cell_type": "markdown",
   "id": "4f4480e7",
   "metadata": {},
   "source": [
    "https://www.w3schools.com/python/python_inheritance.asp"
   ]
  },
  {
   "cell_type": "code",
   "execution_count": null,
   "id": "3b6d89ac",
   "metadata": {},
   "outputs": [],
   "source": []
  },
  {
   "cell_type": "code",
   "execution_count": null,
   "id": "15e691d9",
   "metadata": {},
   "outputs": [],
   "source": []
  },
  {
   "cell_type": "code",
   "execution_count": null,
   "id": "c5d981d9",
   "metadata": {},
   "outputs": [],
   "source": []
  },
  {
   "cell_type": "code",
   "execution_count": null,
   "id": "e635b016",
   "metadata": {},
   "outputs": [],
   "source": []
  },
  {
   "cell_type": "code",
   "execution_count": null,
   "id": "16f2b459",
   "metadata": {},
   "outputs": [],
   "source": []
  },
  {
   "cell_type": "code",
   "execution_count": null,
   "id": "42d82e74",
   "metadata": {},
   "outputs": [],
   "source": []
  }
 ],
 "metadata": {
  "kernelspec": {
   "display_name": "Python 3 (ipykernel)",
   "language": "python",
   "name": "python3"
  },
  "language_info": {
   "codemirror_mode": {
    "name": "ipython",
    "version": 3
   },
   "file_extension": ".py",
   "mimetype": "text/x-python",
   "name": "python",
   "nbconvert_exporter": "python",
   "pygments_lexer": "ipython3",
   "version": "3.9.13"
  }
 },
 "nbformat": 4,
 "nbformat_minor": 5
}
