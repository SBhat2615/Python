{
 "cells": [
  {
   "cell_type": "markdown",
   "id": "22814d0f",
   "metadata": {},
   "source": [
    "# Python Crash course"
   ]
  },
  {
   "cell_type": "code",
   "execution_count": 23,
   "id": "22515313",
   "metadata": {},
   "outputs": [
    {
     "name": "stdout",
     "output_type": "stream",
     "text": [
      "In Jupyter notebook !!!\n"
     ]
    }
   ],
   "source": [
    "print(\"In Jupyter notebook !!!\")      #  \"....\" - string"
   ]
  },
  {
   "cell_type": "code",
   "execution_count": 1,
   "id": "ab6d17e5",
   "metadata": {},
   "outputs": [
    {
     "name": "stdout",
     "output_type": "stream",
     "text": [
      "Hey siri\n",
      "Hi siddhartha\n"
     ]
    }
   ],
   "source": [
    "name = \"siri\"\n",
    "print(\"Hey \" + name)\n",
    "name = \"siddhartha\"\n",
    "print(\"Hi \" + name)"
   ]
  },
  {
   "cell_type": "code",
   "execution_count": 25,
   "id": "60db9d0a",
   "metadata": {},
   "outputs": [
    {
     "name": "stdout",
     "output_type": "stream",
     "text": [
      "57.6650390625\n"
     ]
    }
   ],
   "source": [
    "print((((1+2)*3)/4)**5)      # (((1+2)*3)/4)^5   &   Use (1/2) as power for root"
   ]
  },
  {
   "cell_type": "code",
   "execution_count": 26,
   "id": "cc8c8a82",
   "metadata": {},
   "outputs": [
    {
     "name": "stdout",
     "output_type": "stream",
     "text": [
      "Age is 10\n"
     ]
    }
   ],
   "source": [
    "age = 10\n",
    "print(\"Age is \" + str(age))"
   ]
  },
  {
   "cell_type": "markdown",
   "id": "3cfdec83",
   "metadata": {},
   "source": [
    "# Functions, Data types"
   ]
  },
  {
   "cell_type": "code",
   "execution_count": 27,
   "id": "9a9445ac",
   "metadata": {},
   "outputs": [
    {
     "name": "stdout",
     "output_type": "stream",
     "text": [
      "Hello gopali\n",
      "6\n",
      "Area of triangle is: 6.0\n"
     ]
    }
   ],
   "source": [
    "def greeting(name):\n",
    "    print(\"Hello \" + name)\n",
    "    print(len(name))\n",
    "\n",
    "def area(base, height):\n",
    "    return (base*height)/2\n",
    "\n",
    "greeting(\"gopali\")\n",
    "area = area(3, 4)\n",
    "print(\"Area of triangle is: \" + str(area))"
   ]
  },
  {
   "cell_type": "code",
   "execution_count": 28,
   "id": "da70d359",
   "metadata": {},
   "outputs": [],
   "source": [
    "# Data types --> None, Boolean, "
   ]
  },
  {
   "cell_type": "markdown",
   "id": "60fef4f9",
   "metadata": {},
   "source": [
    "# Conditionals"
   ]
  },
  {
   "cell_type": "code",
   "execution_count": 29,
   "id": "6782c35b",
   "metadata": {},
   "outputs": [
    {
     "name": "stdout",
     "output_type": "stream",
     "text": [
      "False\n",
      "True\n"
     ]
    }
   ],
   "source": [
    "print(\"yellow\" > \"cyan\" and \"brown\" > \"magenta\")      # conditional and\n",
    "# print(\"yellow\" > \"cyan\" && \"brown\" > \"magenta\")     # & not valid\n",
    "\n",
    "print(\"yellow\" > \"cyan\" or \"brown\" > \"magenta\")       # conditional or\n"
   ]
  },
  {
   "cell_type": "code",
   "execution_count": 30,
   "id": "3877aab7",
   "metadata": {},
   "outputs": [
    {
     "name": "stdout",
     "output_type": "stream",
     "text": [
      "False\n",
      "True\n"
     ]
    }
   ],
   "source": [
    "print(20 == 21)\n",
    "print(not 34 == 40)          # conditional not\n",
    "\n"
   ]
  },
  {
   "cell_type": "code",
   "execution_count": 31,
   "id": "4f0613c4",
   "metadata": {},
   "outputs": [
    {
     "name": "stdout",
     "output_type": "stream",
     "text": [
      "False\n"
     ]
    }
   ],
   "source": [
    "## if, elif, else\n",
    "\n",
    "def is_even(number):\n",
    "    if number%2 == 0:\n",
    "        return True\n",
    "    return False\n",
    "\n",
    "isItEven = is_even(5)\n",
    "print(isItEven)"
   ]
  },
  {
   "cell_type": "markdown",
   "id": "1d0c4232",
   "metadata": {},
   "source": [
    "# Loops"
   ]
  },
  {
   "cell_type": "code",
   "execution_count": 32,
   "id": "547df36c",
   "metadata": {},
   "outputs": [
    {
     "name": "stdout",
     "output_type": "stream",
     "text": [
      "Attempt number 1\n",
      "Attempt number 2\n",
      "Attempt number 3\n",
      "Attempt number 4\n",
      "Attempt number 5\n",
      "All attempts done\n"
     ]
    }
   ],
   "source": [
    "# while\n",
    "\n",
    "def attempts(n):\n",
    "    x = 1\n",
    "    while x <= n:\n",
    "        print(\"Attempt number \" + str(x))\n",
    "        x += 1\n",
    "    print(\"All attempts done\")\n",
    "\n",
    "attempts(5)"
   ]
  },
  {
   "cell_type": "code",
   "execution_count": 4,
   "id": "5a15794c",
   "metadata": {},
   "outputs": [
    {
     "name": "stdout",
     "output_type": "stream",
     "text": [
      "0-0  |  1-1  |  2-2  |  3-3  |  4-4  |  \n",
      "\n",
      "\n",
      "Factorial\n",
      "24\n",
      "120\n",
      "\n",
      "\n",
      "1\n",
      "3\n",
      "5\n",
      "7\n",
      "9\n"
     ]
    }
   ],
   "source": [
    "## FOR LOOP ##\n",
    "\n",
    "## Use of range_1\n",
    "\n",
    "for i in range(5): \n",
    "    print(i,i, sep=\"-\",end=\"  |  \")            #sep vs end\n",
    "\n",
    "\n",
    "## Use of range_2\n",
    "\n",
    "print(\"\\n\\n\")\n",
    "print(\"Factorial\")\n",
    "\n",
    "def factorial(n):\n",
    "    result = 1\n",
    "    for i in range(1,n+1):\n",
    "        result *= i\n",
    "    return result\n",
    "\n",
    "print(factorial(4))\n",
    "print(factorial(5))\n",
    "\n",
    "\n",
    "## Use of range 3\n",
    "\n",
    "print(\"\\n\")\n",
    "for i in range(1, 10, 2):\n",
    "    print(i)"
   ]
  },
  {
   "cell_type": "code",
   "execution_count": 34,
   "id": "88fccb20",
   "metadata": {},
   "outputs": [
    {
     "name": "stdout",
     "output_type": "stream",
     "text": [
      "rohit\n",
      "taylor\n",
      "kevin\n",
      "\n",
      "\n",
      "Garnet vs Peridot\n",
      "Garnet vs Coral\n",
      "Garnet vs Sapphire\n",
      "Peridot vs Garnet\n",
      "Peridot vs Coral\n",
      "Peridot vs Sapphire\n",
      "Coral vs Garnet\n",
      "Coral vs Peridot\n",
      "Coral vs Sapphire\n",
      "Sapphire vs Garnet\n",
      "Sapphire vs Peridot\n",
      "Sapphire vs Coral\n",
      "\n",
      "\n",
      "tiger\n",
      "tommy\n"
     ]
    }
   ],
   "source": [
    "friends = ['rohit', 'taylor', 'kevin']\n",
    "for friend in friends:\n",
    "    print(friend)\n",
    "\n",
    "print('\\n')\n",
    "\n",
    "team = ['Garnet', 'Peridot', 'Coral', 'Sapphire']\n",
    "for team1 in team:\n",
    "    for team2 in team:\n",
    "        if team1 != team2:\n",
    "            print(team1 + \" vs \" + team2)\n",
    "\n",
    "print('\\n')\n",
    "\n",
    "for name in ['tiger', 'tommy']:\n",
    "    print(name)"
   ]
  },
  {
   "cell_type": "markdown",
   "id": "e558da19",
   "metadata": {},
   "source": [
    "# Recursion"
   ]
  },
  {
   "cell_type": "code",
   "execution_count": 35,
   "id": "846eee50",
   "metadata": {},
   "outputs": [],
   "source": [
    "# Active Directory\n",
    "# LDAP"
   ]
  },
  {
   "cell_type": "markdown",
   "id": "71fd7a23",
   "metadata": {},
   "source": [
    "# Strings"
   ]
  },
  {
   "cell_type": "code",
   "execution_count": 1,
   "id": "5a6f301a",
   "metadata": {},
   "outputs": [
    {
     "name": "stdout",
     "output_type": "stream",
     "text": [
      "hellohello10\n",
      "<class 'str'>\n",
      "abcabc6\n",
      "0\n"
     ]
    }
   ],
   "source": [
    "def double_word(word):\n",
    "    return word*2+str(len(word*2))\n",
    "\n",
    "print(double_word(\"hello\")) # hellohello10\n",
    "print(type(double_word(\"hello\")))\n",
    "print(double_word(\"abc\"))   # abcabc6\n",
    "print(double_word(\"\"))      # 0"
   ]
  },
  {
   "cell_type": "raw",
   "id": "28acfbf3",
   "metadata": {},
   "source": [
    "Strings are immutable"
   ]
  },
  {
   "cell_type": "code",
   "execution_count": 36,
   "id": "9ebc7f59",
   "metadata": {
    "scrolled": true
   },
   "outputs": [
    {
     "name": "stdout",
     "output_type": "stream",
     "text": [
      "o l\n",
      "ll\n",
      "Hello\n"
     ]
    }
   ],
   "source": [
    "string = \"Hello\"\n",
    "print(string[-1], string[-2])\n",
    "print(string[2:4])\n",
    "print(string[:2] + string[2:])"
   ]
  },
  {
   "cell_type": "code",
   "execution_count": 38,
   "id": "5c2293ee",
   "metadata": {},
   "outputs": [
    {
     "name": "stdout",
     "output_type": "stream",
     "text": [
      "sid@hotmail.com\n"
     ]
    }
   ],
   "source": [
    "def replace_domain(email, old_domain, new_domain):\n",
    "    if \"@\" + old_domain in email:\n",
    "        index = email.index(\"@\" + old_domain)\n",
    "        new_email = email[:index] + \"@\" + new_domain\n",
    "        return new_email\n",
    "    return email\n",
    "\n",
    "print(replace_domain(\"sid@gmail.com\", \"gmail.com\", \"hotmail.com\"))\n"
   ]
  },
  {
   "cell_type": "markdown",
   "id": "aae69a91",
   "metadata": {},
   "source": [
    "## String methods (imp.)"
   ]
  },
  {
   "cell_type": "code",
   "execution_count": 1,
   "id": "4c1bb895",
   "metadata": {},
   "outputs": [
    {
     "name": "stdout",
     "output_type": "stream",
     "text": [
      "2\n",
      "10\n",
      "True\n"
     ]
    }
   ],
   "source": [
    "message = \"This is a new string\"\n",
    "print(message.index(\"is\"))\n",
    "print(message.index(\"n\"))\n",
    "\n",
    "print(\"new\" in message)\n",
    "#\"old\" in message"
   ]
  },
  {
   "cell_type": "code",
   "execution_count": 7,
   "id": "04248bcc",
   "metadata": {},
   "outputs": [
    {
     "name": "stdout",
     "output_type": "stream",
     "text": [
      "sid\n",
      "\n",
      "yes\n",
      "yes  right space not removed\n",
      "  yes\n",
      "\n",
      "3\n",
      "True\n",
      "\n",
      "True\n",
      "\n",
      "Joined by spaces\n",
      "\n",
      "['Using', 'split', 'method', 'to', 'split', 'sentence']\n",
      "<class 'list'>\n"
     ]
    }
   ],
   "source": [
    "# .upper() & .lower()\n",
    "\"Mountains\".upper()\n",
    "string = \"sId\"\n",
    "print(string.lower())\n",
    "\n",
    "print()\n",
    "\n",
    "# .strip() - stripping whitespace\n",
    "print(\"  yes  \".strip()) #get rid of surrounding spaces\n",
    "print(\"  yes  \".lstrip() + \"right space not removed\")\n",
    "print(\"  yes  \".rstrip())\n",
    "\n",
    "print()\n",
    "\n",
    "# .count() & .endswith()\n",
    "string = \"What's going on guys\"\n",
    "print(string.count(\"g\"))\n",
    "print(string.endswith(\"ys\"))\n",
    "\n",
    "print()\n",
    "\n",
    "# .isnumeric()\n",
    "print(\"123\".isnumeric())\n",
    "\n",
    "print()\n",
    "\n",
    "# .join()\n",
    "print(\" \".join([\"Joined\", \"by\", \"spaces\"]))\n",
    "\"-\".join([\"Joined\", \"by\", \"hyphen\"])   #Ans: 'Joined-by-hyphen'\n",
    "\n",
    "print()\n",
    "\n",
    "# .split()\n",
    "a = \"Using split method to split sentence\".split()     #Ans: ['Using', 'split', 'method', 'to', 'split', 'sentence']\n",
    "print(a)\n",
    "print(type(a))\n"
   ]
  },
  {
   "cell_type": "markdown",
   "id": "63151895",
   "metadata": {},
   "source": [
    "## String formats"
   ]
  },
  {
   "cell_type": "markdown",
   "id": "fb501056",
   "metadata": {},
   "source": [
    "https://www.w3schools.com/python/ref_string_format.asp\n",
    "\n",
    "https://www.geeksforgeeks.org/python-string-format-method/\n",
    "\n",
    "https://docs.python.org/3/library/string.html#format-specification-mini-language"
   ]
  },
  {
   "cell_type": "code",
   "execution_count": 40,
   "id": "0fa3d4df",
   "metadata": {},
   "outputs": [
    {
     "name": "stdout",
     "output_type": "stream",
     "text": [
      "Hello siddu, your lucky number is 15\n",
      "I am sid, 2nd year studying in MIT\n",
      "\n",
      "Reed received 80% on the exam\n",
      "Paige received 92% on the exam\n",
      "Jesse received 85% on the exam\n",
      "\n",
      "\n",
      "Number is = $8.15\n",
      "Number is = $8.15\n",
      "\n",
      "\n"
     ]
    }
   ],
   "source": [
    "\n",
    "# len() & .format()\n",
    "name = \"siddu\"\n",
    "number = len(name)*3\n",
    "print(\"Hello {}, your lucky number is {}\".format(name, number))   #Both strings & numbers combined without type cast\n",
    "\n",
    "\n",
    "\n",
    "my_name = \"sid\"\n",
    "year = 2\n",
    "print(\"I am {name}, {year}nd year studying in MIT\\n\".format(year=year, name=my_name))\n",
    "\n",
    "\n",
    "\n",
    "def student_grade(name, grade):\n",
    "    return \"{} received {}% on the exam\".format(name, grade)\n",
    "\n",
    "print(student_grade(\"Reed\", 80))\n",
    "print(student_grade(\"Paige\", 92))\n",
    "print(student_grade(\"Jesse\", 85))\n",
    "print(\"\\n\")\n",
    "\n",
    "\n",
    "number = 8.148\n",
    "print(\"Number is = ${:.2f}\".format(number))\n",
    "print(\"Number is = ${:>4.2f}\".format(number))   # Text allignment\n",
    "print(\"\\n\")\n"
   ]
  },
  {
   "cell_type": "markdown",
   "id": "3d0364a0",
   "metadata": {},
   "source": [
    "# Lists"
   ]
  },
  {
   "cell_type": "code",
   "execution_count": 1,
   "id": "daa02dd5",
   "metadata": {},
   "outputs": [
    {
     "name": "stdout",
     "output_type": "stream",
     "text": [
      "<class 'list'>\n",
      "4\n",
      "True\n",
      "False\n",
      "three\n"
     ]
    },
    {
     "data": {
      "text/plain": [
       "['three', 'four']"
      ]
     },
     "execution_count": 1,
     "metadata": {},
     "output_type": "execute_result"
    }
   ],
   "source": [
    "# Basic\n",
    "\n",
    "x = [\"one\", \"two\", \"three\", \"four\"]\n",
    "\n",
    "print(type(x))\n",
    "print(len(x))\n",
    "print(\"three\" in x)\n",
    "print(\"five\"  in x)\n",
    "\n",
    "print(x[2])\n",
    "x[2:4]\n"
   ]
  },
  {
   "cell_type": "code",
   "execution_count": 2,
   "id": "1f33cbbd",
   "metadata": {},
   "outputs": [
    {
     "name": "stdout",
     "output_type": "stream",
     "text": [
      "['one', 'two', 'three', 'four', 'five']\n",
      "['one', 'two', 'three', 'five']\n"
     ]
    }
   ],
   "source": [
    "# Modifying contents of List\n",
    "\n",
    "\n",
    "x.append(\"five\")\n",
    "print(x)\n",
    "\n",
    "x.pop(3)        # Argument = index\n",
    "print(x)"
   ]
  },
  {
   "cell_type": "code",
   "execution_count": 21,
   "id": "75b2a024",
   "metadata": {},
   "outputs": [
    {
     "name": "stdout",
     "output_type": "stream",
     "text": [
      "['null', 'one', 'two', 'three', 'five']\n",
      "['one', 'two', 'three', 'five']\n"
     ]
    }
   ],
   "source": [
    "#print(x)\n",
    "\n",
    "x.insert(0, \"null\")\n",
    "print(x)\n",
    "\n",
    "x.remove(\"null\")      # Argument = element\n",
    "print(x)"
   ]
  },
  {
   "cell_type": "markdown",
   "id": "68c7d7e6",
   "metadata": {},
   "source": [
    "# Tuples "
   ]
  },
  {
   "cell_type": "code",
   "execution_count": 5,
   "id": "db0ef219",
   "metadata": {
    "scrolled": true
   },
   "outputs": [
    {
     "name": "stdout",
     "output_type": "stream",
     "text": [
      "(13, 3)\n",
      "<class 'tuple'>\n",
      "7 3\n",
      "<class 'int'> <class 'int'>\n"
     ]
    }
   ],
   "source": [
    "# Im-mutable lists\n",
    "# Function that returns more than 1 value, returns a tuple  \n",
    "\n",
    "def returnSUMandDIFFvalue(x,y):\n",
    "    summ = x + y\n",
    "    difference = x - y\n",
    "    return summ, difference\n",
    "\n",
    "\n",
    "# One single tuple variable\n",
    "\n",
    "value = returnSUMandDIFFvalue(8,5)\n",
    "print(value)\n",
    "print(type(value))\n",
    "\n",
    "\n",
    "# Two single normal(int) variable\n",
    "\n",
    "s, d = returnSUMandDIFFvalue(5,2)\n",
    "print(s, d)\n",
    "print(type(s), type(d))\n",
    "\n",
    "# Trying to store 3 different contents in single variable stores in tuple \n"
   ]
  },
  {
   "cell_type": "markdown",
   "id": "caa9b4ed",
   "metadata": {},
   "source": [
    "ITERATING OVER LIST AND TUPLES"
   ]
  },
  {
   "cell_type": "code",
   "execution_count": 2,
   "id": "3771c639",
   "metadata": {
    "scrolled": true
   },
   "outputs": [
    {
     "name": "stdout",
     "output_type": "stream",
     "text": [
      "1-Aryan\n",
      "2-Ayush\n",
      "3-Naveen\n"
     ]
    }
   ],
   "source": [
    "\n",
    "winners = [\"Aryan\", \"Ayush\", \"Naveen\"]       # list\n",
    "for index, person in enumerate(winners):     # Enumerate function (first value of the list is the index and the second value is the element itself)\n",
    "    print(\"{}-{}\".format(index+1, person))\n",
    "  "
   ]
  },
  {
   "cell_type": "code",
   "execution_count": 2,
   "id": "88cfa90d",
   "metadata": {},
   "outputs": [
    {
     "name": "stdout",
     "output_type": "stream",
     "text": [
      "['Name: siddu   Email: sid@gmail.com', 'Name: bhat   Email: bhat@gmail.com']\n"
     ]
    }
   ],
   "source": [
    "\n",
    "def full_emails(people):\n",
    "    result = []\n",
    "    for email, name in people:\n",
    "        result.append(\"Name: {}   Email: {}\".format(name, email))\n",
    "    return result\n",
    "\n",
    "print(full_emails([(\"sid@gmail.com\", \"siddu\"), (\"bhat@gmail.com\", \"bhat\")]))\n"
   ]
  },
  {
   "cell_type": "markdown",
   "id": "7bcab62d",
   "metadata": {},
   "source": [
    "# List comprehensions"
   ]
  },
  {
   "cell_type": "code",
   "execution_count": 46,
   "id": "cf7beca5",
   "metadata": {},
   "outputs": [
    {
     "name": "stdout",
     "output_type": "stream",
     "text": [
      "[7, 14, 21, 28, 35, 42, 49, 56, 63, 70]\n",
      "[6, 4, 3]\n",
      "[2, 4, 6, 8]\n"
     ]
    }
   ],
   "source": [
    "\n",
    "newList = [x*7 for x in range(1,11)]\n",
    "print(newList)\n",
    "\n",
    "\n",
    "languages = [\"python\", \"java\", \"cpp\"]\n",
    "length = [len(language) for language in languages]\n",
    "print(length)\n",
    "\n",
    "\n",
    "even_numbers = [x for x in range(1,10) if x%2 == 0]\n",
    "print(even_numbers)"
   ]
  },
  {
   "cell_type": "markdown",
   "id": "fa5bb3d2",
   "metadata": {
    "scrolled": true
   },
   "source": [
    " Online docs on methods of list\n",
    "\n",
    "https://docs.python.org/3/library/stdtypes.html     --- sequence-types-list-tuple-range"
   ]
  },
  {
   "cell_type": "markdown",
   "id": "a7b5b687",
   "metadata": {},
   "source": [
    "# Dictionaries"
   ]
  },
  {
   "cell_type": "code",
   "execution_count": 2,
   "id": "1012cee7",
   "metadata": {},
   "outputs": [
    {
     "name": "stdout",
     "output_type": "stream",
     "text": [
      "<class 'dict'>\n",
      "{'sid': 10, 'bhat': 15}\n",
      "10\n"
     ]
    },
    {
     "data": {
      "text/plain": [
       "True"
      ]
     },
     "execution_count": 2,
     "metadata": {},
     "output_type": "execute_result"
    }
   ],
   "source": [
    "#  Mutable\n",
    "#  {values:keys}\n",
    "\n",
    "x = {\"sid\":10, \"bhat\":15}\n",
    "\n",
    "print(type(x))\n",
    "\n",
    "print(x)\n",
    "\n",
    "print(x[\"sid\"])\n",
    "\n",
    "\n",
    "\"bhat\" in x"
   ]
  },
  {
   "cell_type": "code",
   "execution_count": 14,
   "id": "0cfda666",
   "metadata": {
    "scrolled": true
   },
   "outputs": [
    {
     "name": "stdout",
     "output_type": "stream",
     "text": [
      "{'sid': 10, 'bhat': 15, 'sin': 20}\n",
      "{'sid': 10, 'sin': 20}\n"
     ]
    }
   ],
   "source": [
    "x[\"sin\"] = 20\n",
    "print(x)\n",
    "\n",
    "del x[\"bhat\"]\n",
    "print(x)"
   ]
  },
  {
   "cell_type": "markdown",
   "id": "0a0a1889",
   "metadata": {},
   "source": [
    "PRACTICE"
   ]
  },
  {
   "cell_type": "code",
   "execution_count": 12,
   "id": "36ef1e47",
   "metadata": {
    "scrolled": true
   },
   "outputs": [
    {
     "name": "stdout",
     "output_type": "stream",
     "text": [
      "<class 'dict'>\n",
      "{10: 1, 20: 2, 30: 3}\n",
      "1\n"
     ]
    }
   ],
   "source": [
    "p = {10:1, 20:2, 30:3}\n",
    "\n",
    "print(type(p))\n",
    "print(p)\n",
    "print(p[10])"
   ]
  },
  {
   "cell_type": "markdown",
   "id": "36f2c69d",
   "metadata": {},
   "source": [
    "## Iterating over dictionaries"
   ]
  },
  {
   "cell_type": "code",
   "execution_count": 3,
   "id": "03554e8e",
   "metadata": {},
   "outputs": [
    {
     "name": "stdout",
     "output_type": "stream",
     "text": [
      "sid\n",
      "bhat\n",
      "Name= sid and Number= 10\n",
      "Name= bhat and Number= 15\n",
      "dict_keys(['sid', 'bhat'])\n",
      "dict_values([10, 15])\n"
     ]
    }
   ],
   "source": [
    "for name in x:\n",
    "    print(name)\n",
    "    \n",
    "for name, keys in x.items():\n",
    "    print(\"Name= {} and Number= {}\".format(name, keys))\n",
    "    \n",
    "print(x.keys())\n",
    "print(x.values())\n",
    "\n",
    "# Useful in count letters (Store alphabet(values) & count(keys))"
   ]
  },
  {
   "cell_type": "markdown",
   "id": "75ef7cf1",
   "metadata": {},
   "source": [
    " \n",
    " Others IMPORTANT methods in dictionary, .append, .update(), \n",
    " \n",
    " https://docs.python.org/3/library/stdtypes.html#mapping-types-dict"
   ]
  },
  {
   "cell_type": "markdown",
   "id": "85d80ae7",
   "metadata": {},
   "source": [
    "# Sets (dict x lists)"
   ]
  },
  {
   "cell_type": "markdown",
   "id": "6709845b",
   "metadata": {},
   "source": [
    "https://www.w3schools.com/python/python_sets.asp"
   ]
  },
  {
   "cell_type": "markdown",
   "id": "ab7e6a99",
   "metadata": {},
   "source": [
    "# OOP"
   ]
  },
  {
   "cell_type": "code",
   "execution_count": 7,
   "id": "8754acd5",
   "metadata": {},
   "outputs": [
    {
     "name": "stdout",
     "output_type": "stream",
     "text": [
      "<class 'int'>\n",
      "<class 'str'>\n"
     ]
    }
   ],
   "source": [
    "print(type(0))\n",
    "print(type(\"\"))"
   ]
  },
  {
   "cell_type": "markdown",
   "id": "bf01c0f6",
   "metadata": {},
   "source": [
    "List all methods & attributes in a class"
   ]
  },
  {
   "cell_type": "code",
   "execution_count": 11,
   "id": "02a1c50b",
   "metadata": {
    "scrolled": true
   },
   "outputs": [
    {
     "data": {
      "text/plain": [
       "['__add__',\n",
       " '__class__',\n",
       " '__contains__',\n",
       " '__delattr__',\n",
       " '__dir__',\n",
       " '__doc__',\n",
       " '__eq__',\n",
       " '__format__',\n",
       " '__ge__',\n",
       " '__getattribute__',\n",
       " '__getitem__',\n",
       " '__getnewargs__',\n",
       " '__gt__',\n",
       " '__hash__',\n",
       " '__init__',\n",
       " '__init_subclass__',\n",
       " '__iter__',\n",
       " '__le__',\n",
       " '__len__',\n",
       " '__lt__',\n",
       " '__mod__',\n",
       " '__mul__',\n",
       " '__ne__',\n",
       " '__new__',\n",
       " '__reduce__',\n",
       " '__reduce_ex__',\n",
       " '__repr__',\n",
       " '__rmod__',\n",
       " '__rmul__',\n",
       " '__setattr__',\n",
       " '__sizeof__',\n",
       " '__str__',\n",
       " '__subclasshook__',\n",
       " 'capitalize',\n",
       " 'casefold',\n",
       " 'center',\n",
       " 'count',\n",
       " 'encode',\n",
       " 'endswith',\n",
       " 'expandtabs',\n",
       " 'find',\n",
       " 'format',\n",
       " 'format_map',\n",
       " 'index',\n",
       " 'isalnum',\n",
       " 'isalpha',\n",
       " 'isascii',\n",
       " 'isdecimal',\n",
       " 'isdigit',\n",
       " 'isidentifier',\n",
       " 'islower',\n",
       " 'isnumeric',\n",
       " 'isprintable',\n",
       " 'isspace',\n",
       " 'istitle',\n",
       " 'isupper',\n",
       " 'join',\n",
       " 'ljust',\n",
       " 'lower',\n",
       " 'lstrip',\n",
       " 'maketrans',\n",
       " 'partition',\n",
       " 'removeprefix',\n",
       " 'removesuffix',\n",
       " 'replace',\n",
       " 'rfind',\n",
       " 'rindex',\n",
       " 'rjust',\n",
       " 'rpartition',\n",
       " 'rsplit',\n",
       " 'rstrip',\n",
       " 'split',\n",
       " 'splitlines',\n",
       " 'startswith',\n",
       " 'strip',\n",
       " 'swapcase',\n",
       " 'title',\n",
       " 'translate',\n",
       " 'upper',\n",
       " 'zfill']"
      ]
     },
     "execution_count": 11,
     "metadata": {},
     "output_type": "execute_result"
    }
   ],
   "source": [
    "dir(\"\")    #of string class\n",
    "\n",
    "#dir(int)"
   ]
  },
  {
   "cell_type": "markdown",
   "id": "b27cd1f0",
   "metadata": {},
   "source": [
    "DOCUMENTATION ON DIFFERENT METHODS FOR CORRESPONDING CLASS"
   ]
  },
  {
   "cell_type": "code",
   "execution_count": 1,
   "id": "82991364",
   "metadata": {
    "scrolled": true
   },
   "outputs": [
    {
     "name": "stdout",
     "output_type": "stream",
     "text": [
      "Help on class str in module builtins:\n",
      "\n",
      "class str(object)\n",
      " |  str(object='') -> str\n",
      " |  str(bytes_or_buffer[, encoding[, errors]]) -> str\n",
      " |  \n",
      " |  Create a new string object from the given object. If encoding or\n",
      " |  errors is specified, then the object must expose a data buffer\n",
      " |  that will be decoded using the given encoding and error handler.\n",
      " |  Otherwise, returns the result of object.__str__() (if defined)\n",
      " |  or repr(object).\n",
      " |  encoding defaults to sys.getdefaultencoding().\n",
      " |  errors defaults to 'strict'.\n",
      " |  \n",
      " |  Methods defined here:\n",
      " |  \n",
      " |  __add__(self, value, /)\n",
      " |      Return self+value.\n",
      " |  \n",
      " |  __contains__(self, key, /)\n",
      " |      Return key in self.\n",
      " |  \n",
      " |  __eq__(self, value, /)\n",
      " |      Return self==value.\n",
      " |  \n",
      " |  __format__(self, format_spec, /)\n",
      " |      Return a formatted version of the string as described by format_spec.\n",
      " |  \n",
      " |  __ge__(self, value, /)\n",
      " |      Return self>=value.\n",
      " |  \n",
      " |  __getattribute__(self, name, /)\n",
      " |      Return getattr(self, name).\n",
      " |  \n",
      " |  __getitem__(self, key, /)\n",
      " |      Return self[key].\n",
      " |  \n",
      " |  __getnewargs__(...)\n",
      " |  \n",
      " |  __gt__(self, value, /)\n",
      " |      Return self>value.\n",
      " |  \n",
      " |  __hash__(self, /)\n",
      " |      Return hash(self).\n",
      " |  \n",
      " |  __iter__(self, /)\n",
      " |      Implement iter(self).\n",
      " |  \n",
      " |  __le__(self, value, /)\n",
      " |      Return self<=value.\n",
      " |  \n",
      " |  __len__(self, /)\n",
      " |      Return len(self).\n",
      " |  \n",
      " |  __lt__(self, value, /)\n",
      " |      Return self<value.\n",
      " |  \n",
      " |  __mod__(self, value, /)\n",
      " |      Return self%value.\n",
      " |  \n",
      " |  __mul__(self, value, /)\n",
      " |      Return self*value.\n",
      " |  \n",
      " |  __ne__(self, value, /)\n",
      " |      Return self!=value.\n",
      " |  \n",
      " |  __repr__(self, /)\n",
      " |      Return repr(self).\n",
      " |  \n",
      " |  __rmod__(self, value, /)\n",
      " |      Return value%self.\n",
      " |  \n",
      " |  __rmul__(self, value, /)\n",
      " |      Return value*self.\n",
      " |  \n",
      " |  __sizeof__(self, /)\n",
      " |      Return the size of the string in memory, in bytes.\n",
      " |  \n",
      " |  __str__(self, /)\n",
      " |      Return str(self).\n",
      " |  \n",
      " |  capitalize(self, /)\n",
      " |      Return a capitalized version of the string.\n",
      " |      \n",
      " |      More specifically, make the first character have upper case and the rest lower\n",
      " |      case.\n",
      " |  \n",
      " |  casefold(self, /)\n",
      " |      Return a version of the string suitable for caseless comparisons.\n",
      " |  \n",
      " |  center(self, width, fillchar=' ', /)\n",
      " |      Return a centered string of length width.\n",
      " |      \n",
      " |      Padding is done using the specified fill character (default is a space).\n",
      " |  \n",
      " |  count(...)\n",
      " |      S.count(sub[, start[, end]]) -> int\n",
      " |      \n",
      " |      Return the number of non-overlapping occurrences of substring sub in\n",
      " |      string S[start:end].  Optional arguments start and end are\n",
      " |      interpreted as in slice notation.\n",
      " |  \n",
      " |  encode(self, /, encoding='utf-8', errors='strict')\n",
      " |      Encode the string using the codec registered for encoding.\n",
      " |      \n",
      " |      encoding\n",
      " |        The encoding in which to encode the string.\n",
      " |      errors\n",
      " |        The error handling scheme to use for encoding errors.\n",
      " |        The default is 'strict' meaning that encoding errors raise a\n",
      " |        UnicodeEncodeError.  Other possible values are 'ignore', 'replace' and\n",
      " |        'xmlcharrefreplace' as well as any other name registered with\n",
      " |        codecs.register_error that can handle UnicodeEncodeErrors.\n",
      " |  \n",
      " |  endswith(...)\n",
      " |      S.endswith(suffix[, start[, end]]) -> bool\n",
      " |      \n",
      " |      Return True if S ends with the specified suffix, False otherwise.\n",
      " |      With optional start, test S beginning at that position.\n",
      " |      With optional end, stop comparing S at that position.\n",
      " |      suffix can also be a tuple of strings to try.\n",
      " |  \n",
      " |  expandtabs(self, /, tabsize=8)\n",
      " |      Return a copy where all tab characters are expanded using spaces.\n",
      " |      \n",
      " |      If tabsize is not given, a tab size of 8 characters is assumed.\n",
      " |  \n",
      " |  find(...)\n",
      " |      S.find(sub[, start[, end]]) -> int\n",
      " |      \n",
      " |      Return the lowest index in S where substring sub is found,\n",
      " |      such that sub is contained within S[start:end].  Optional\n",
      " |      arguments start and end are interpreted as in slice notation.\n",
      " |      \n",
      " |      Return -1 on failure.\n",
      " |  \n",
      " |  format(...)\n",
      " |      S.format(*args, **kwargs) -> str\n",
      " |      \n",
      " |      Return a formatted version of S, using substitutions from args and kwargs.\n",
      " |      The substitutions are identified by braces ('{' and '}').\n",
      " |  \n",
      " |  format_map(...)\n",
      " |      S.format_map(mapping) -> str\n",
      " |      \n",
      " |      Return a formatted version of S, using substitutions from mapping.\n",
      " |      The substitutions are identified by braces ('{' and '}').\n",
      " |  \n",
      " |  index(...)\n",
      " |      S.index(sub[, start[, end]]) -> int\n",
      " |      \n",
      " |      Return the lowest index in S where substring sub is found,\n",
      " |      such that sub is contained within S[start:end].  Optional\n",
      " |      arguments start and end are interpreted as in slice notation.\n",
      " |      \n",
      " |      Raises ValueError when the substring is not found.\n",
      " |  \n",
      " |  isalnum(self, /)\n",
      " |      Return True if the string is an alpha-numeric string, False otherwise.\n",
      " |      \n",
      " |      A string is alpha-numeric if all characters in the string are alpha-numeric and\n",
      " |      there is at least one character in the string.\n",
      " |  \n",
      " |  isalpha(self, /)\n",
      " |      Return True if the string is an alphabetic string, False otherwise.\n",
      " |      \n",
      " |      A string is alphabetic if all characters in the string are alphabetic and there\n",
      " |      is at least one character in the string.\n",
      " |  \n",
      " |  isascii(self, /)\n",
      " |      Return True if all characters in the string are ASCII, False otherwise.\n",
      " |      \n",
      " |      ASCII characters have code points in the range U+0000-U+007F.\n",
      " |      Empty string is ASCII too.\n",
      " |  \n",
      " |  isdecimal(self, /)\n",
      " |      Return True if the string is a decimal string, False otherwise.\n",
      " |      \n",
      " |      A string is a decimal string if all characters in the string are decimal and\n",
      " |      there is at least one character in the string.\n",
      " |  \n",
      " |  isdigit(self, /)\n",
      " |      Return True if the string is a digit string, False otherwise.\n",
      " |      \n",
      " |      A string is a digit string if all characters in the string are digits and there\n",
      " |      is at least one character in the string.\n",
      " |  \n",
      " |  isidentifier(self, /)\n",
      " |      Return True if the string is a valid Python identifier, False otherwise.\n",
      " |      \n",
      " |      Call keyword.iskeyword(s) to test whether string s is a reserved identifier,\n",
      " |      such as \"def\" or \"class\".\n",
      " |  \n",
      " |  islower(self, /)\n",
      " |      Return True if the string is a lowercase string, False otherwise.\n",
      " |      \n",
      " |      A string is lowercase if all cased characters in the string are lowercase and\n",
      " |      there is at least one cased character in the string.\n",
      " |  \n",
      " |  isnumeric(self, /)\n",
      " |      Return True if the string is a numeric string, False otherwise.\n",
      " |      \n",
      " |      A string is numeric if all characters in the string are numeric and there is at\n",
      " |      least one character in the string.\n",
      " |  \n",
      " |  isprintable(self, /)\n",
      " |      Return True if the string is printable, False otherwise.\n",
      " |      \n",
      " |      A string is printable if all of its characters are considered printable in\n",
      " |      repr() or if it is empty.\n",
      " |  \n",
      " |  isspace(self, /)\n",
      " |      Return True if the string is a whitespace string, False otherwise.\n",
      " |      \n",
      " |      A string is whitespace if all characters in the string are whitespace and there\n",
      " |      is at least one character in the string.\n",
      " |  \n",
      " |  istitle(self, /)\n",
      " |      Return True if the string is a title-cased string, False otherwise.\n",
      " |      \n",
      " |      In a title-cased string, upper- and title-case characters may only\n",
      " |      follow uncased characters and lowercase characters only cased ones.\n",
      " |  \n",
      " |  isupper(self, /)\n",
      " |      Return True if the string is an uppercase string, False otherwise.\n",
      " |      \n",
      " |      A string is uppercase if all cased characters in the string are uppercase and\n",
      " |      there is at least one cased character in the string.\n",
      " |  \n",
      " |  join(self, iterable, /)\n",
      " |      Concatenate any number of strings.\n",
      " |      \n",
      " |      The string whose method is called is inserted in between each given string.\n",
      " |      The result is returned as a new string.\n",
      " |      \n",
      " |      Example: '.'.join(['ab', 'pq', 'rs']) -> 'ab.pq.rs'\n",
      " |  \n",
      " |  ljust(self, width, fillchar=' ', /)\n",
      " |      Return a left-justified string of length width.\n",
      " |      \n",
      " |      Padding is done using the specified fill character (default is a space).\n",
      " |  \n",
      " |  lower(self, /)\n",
      " |      Return a copy of the string converted to lowercase.\n",
      " |  \n",
      " |  lstrip(self, chars=None, /)\n",
      " |      Return a copy of the string with leading whitespace removed.\n",
      " |      \n",
      " |      If chars is given and not None, remove characters in chars instead.\n",
      " |  \n",
      " |  partition(self, sep, /)\n",
      " |      Partition the string into three parts using the given separator.\n",
      " |      \n",
      " |      This will search for the separator in the string.  If the separator is found,\n",
      " |      returns a 3-tuple containing the part before the separator, the separator\n",
      " |      itself, and the part after it.\n",
      " |      \n",
      " |      If the separator is not found, returns a 3-tuple containing the original string\n",
      " |      and two empty strings.\n",
      " |  \n",
      " |  removeprefix(self, prefix, /)\n",
      " |      Return a str with the given prefix string removed if present.\n",
      " |      \n",
      " |      If the string starts with the prefix string, return string[len(prefix):].\n",
      " |      Otherwise, return a copy of the original string.\n",
      " |  \n",
      " |  removesuffix(self, suffix, /)\n",
      " |      Return a str with the given suffix string removed if present.\n",
      " |      \n",
      " |      If the string ends with the suffix string and that suffix is not empty,\n",
      " |      return string[:-len(suffix)]. Otherwise, return a copy of the original\n",
      " |      string.\n",
      " |  \n",
      " |  replace(self, old, new, count=-1, /)\n",
      " |      Return a copy with all occurrences of substring old replaced by new.\n",
      " |      \n",
      " |        count\n",
      " |          Maximum number of occurrences to replace.\n",
      " |          -1 (the default value) means replace all occurrences.\n",
      " |      \n",
      " |      If the optional argument count is given, only the first count occurrences are\n",
      " |      replaced.\n",
      " |  \n",
      " |  rfind(...)\n",
      " |      S.rfind(sub[, start[, end]]) -> int\n",
      " |      \n",
      " |      Return the highest index in S where substring sub is found,\n",
      " |      such that sub is contained within S[start:end].  Optional\n",
      " |      arguments start and end are interpreted as in slice notation.\n",
      " |      \n",
      " |      Return -1 on failure.\n",
      " |  \n",
      " |  rindex(...)\n",
      " |      S.rindex(sub[, start[, end]]) -> int\n",
      " |      \n",
      " |      Return the highest index in S where substring sub is found,\n",
      " |      such that sub is contained within S[start:end].  Optional\n",
      " |      arguments start and end are interpreted as in slice notation.\n",
      " |      \n",
      " |      Raises ValueError when the substring is not found.\n",
      " |  \n",
      " |  rjust(self, width, fillchar=' ', /)\n",
      " |      Return a right-justified string of length width.\n",
      " |      \n",
      " |      Padding is done using the specified fill character (default is a space).\n",
      " |  \n",
      " |  rpartition(self, sep, /)\n",
      " |      Partition the string into three parts using the given separator.\n",
      " |      \n",
      " |      This will search for the separator in the string, starting at the end. If\n",
      " |      the separator is found, returns a 3-tuple containing the part before the\n",
      " |      separator, the separator itself, and the part after it.\n",
      " |      \n",
      " |      If the separator is not found, returns a 3-tuple containing two empty strings\n",
      " |      and the original string.\n",
      " |  \n",
      " |  rsplit(self, /, sep=None, maxsplit=-1)\n",
      " |      Return a list of the words in the string, using sep as the delimiter string.\n",
      " |      \n",
      " |        sep\n",
      " |          The delimiter according which to split the string.\n",
      " |          None (the default value) means split according to any whitespace,\n",
      " |          and discard empty strings from the result.\n",
      " |        maxsplit\n",
      " |          Maximum number of splits to do.\n",
      " |          -1 (the default value) means no limit.\n",
      " |      \n",
      " |      Splits are done starting at the end of the string and working to the front.\n",
      " |  \n",
      " |  rstrip(self, chars=None, /)\n",
      " |      Return a copy of the string with trailing whitespace removed.\n",
      " |      \n",
      " |      If chars is given and not None, remove characters in chars instead.\n",
      " |  \n",
      " |  split(self, /, sep=None, maxsplit=-1)\n",
      " |      Return a list of the words in the string, using sep as the delimiter string.\n",
      " |      \n",
      " |      sep\n",
      " |        The delimiter according which to split the string.\n",
      " |        None (the default value) means split according to any whitespace,\n",
      " |        and discard empty strings from the result.\n",
      " |      maxsplit\n",
      " |        Maximum number of splits to do.\n",
      " |        -1 (the default value) means no limit.\n",
      " |  \n",
      " |  splitlines(self, /, keepends=False)\n",
      " |      Return a list of the lines in the string, breaking at line boundaries.\n",
      " |      \n",
      " |      Line breaks are not included in the resulting list unless keepends is given and\n",
      " |      true.\n",
      " |  \n",
      " |  startswith(...)\n",
      " |      S.startswith(prefix[, start[, end]]) -> bool\n",
      " |      \n",
      " |      Return True if S starts with the specified prefix, False otherwise.\n",
      " |      With optional start, test S beginning at that position.\n",
      " |      With optional end, stop comparing S at that position.\n",
      " |      prefix can also be a tuple of strings to try.\n",
      " |  \n",
      " |  strip(self, chars=None, /)\n",
      " |      Return a copy of the string with leading and trailing whitespace removed.\n",
      " |      \n",
      " |      If chars is given and not None, remove characters in chars instead.\n",
      " |  \n",
      " |  swapcase(self, /)\n",
      " |      Convert uppercase characters to lowercase and lowercase characters to uppercase.\n",
      " |  \n",
      " |  title(self, /)\n",
      " |      Return a version of the string where each word is titlecased.\n",
      " |      \n",
      " |      More specifically, words start with uppercased characters and all remaining\n",
      " |      cased characters have lower case.\n",
      " |  \n",
      " |  translate(self, table, /)\n",
      " |      Replace each character in the string using the given translation table.\n",
      " |      \n",
      " |        table\n",
      " |          Translation table, which must be a mapping of Unicode ordinals to\n",
      " |          Unicode ordinals, strings, or None.\n",
      " |      \n",
      " |      The table must implement lookup/indexing via __getitem__, for instance a\n",
      " |      dictionary or list.  If this operation raises LookupError, the character is\n",
      " |      left untouched.  Characters mapped to None are deleted.\n",
      " |  \n",
      " |  upper(self, /)\n",
      " |      Return a copy of the string converted to uppercase.\n",
      " |  \n",
      " |  zfill(self, width, /)\n",
      " |      Pad a numeric string with zeros on the left, to fill a field of the given width.\n",
      " |      \n",
      " |      The string is never truncated.\n",
      " |  \n",
      " |  ----------------------------------------------------------------------\n",
      " |  Static methods defined here:\n",
      " |  \n",
      " |  __new__(*args, **kwargs) from builtins.type\n",
      " |      Create and return a new object.  See help(type) for accurate signature.\n",
      " |  \n",
      " |  maketrans(...)\n",
      " |      Return a translation table usable for str.translate().\n",
      " |      \n",
      " |      If there is only one argument, it must be a dictionary mapping Unicode\n",
      " |      ordinals (integers) or characters to Unicode ordinals, strings or None.\n",
      " |      Character keys will be then converted to ordinals.\n",
      " |      If there are two arguments, they must be strings of equal length, and\n",
      " |      in the resulting dictionary, each character in x will be mapped to the\n",
      " |      character at the same position in y. If there is a third argument, it\n",
      " |      must be a string, whose characters will be mapped to None in the result.\n",
      "\n"
     ]
    }
   ],
   "source": [
    "help(\"\")    #for string class"
   ]
  },
  {
   "cell_type": "markdown",
   "id": "f20ba005",
   "metadata": {},
   "source": [
    "## Define classes & objects"
   ]
  },
  {
   "cell_type": "code",
   "execution_count": 12,
   "id": "67f3bcc5",
   "metadata": {},
   "outputs": [
    {
     "name": "stdout",
     "output_type": "stream",
     "text": [
      "red\n",
      "sweet\n",
      "green\n",
      "sweet\n"
     ]
    }
   ],
   "source": [
    "class Apple:\n",
    "    color = \"\"\n",
    "    flavour = \"\"\n",
    "    \n",
    "a1 = Apple()\n",
    "a1.color = \"red\"\n",
    "a1.flavour = \"sweet\"\n",
    "\n",
    "print(a1.color)\n",
    "print(a1.flavour)\n",
    "\n",
    "a2 = Apple()\n",
    "a2.color = \"green\"\n",
    "a2.flavour = \"sweet\"\n",
    "\n",
    "print(a2.color)\n",
    "print(a2.flavour)"
   ]
  },
  {
   "cell_type": "markdown",
   "id": "b28cdca9",
   "metadata": {},
   "source": [
    "### Note: (self) must be included in methods (to use instance variables), not required in functions."
   ]
  },
  {
   "cell_type": "markdown",
   "id": "e257a24e",
   "metadata": {},
   "source": [
    "Instance methods & variables"
   ]
  },
  {
   "cell_type": "code",
   "execution_count": 15,
   "id": "10f520ba",
   "metadata": {},
   "outputs": [
    {
     "name": "stdout",
     "output_type": "stream",
     "text": [
      "Hi! My name is siddhartha.\n",
      "Hi! My name is sinchana.\n"
     ]
    }
   ],
   "source": [
    "class printName:\n",
    "    name = \"siddhartha\"\n",
    "    def printFunc(self):\n",
    "        print(\"Hi! My name is {}.\".format(self.name))\n",
    "        \n",
    "n1 = printName()\n",
    "n1.printFunc()\n",
    "\n",
    "n2 = printName()\n",
    "n2.name = \"sinchana\"\n",
    "n2.printFunc()"
   ]
  },
  {
   "cell_type": "markdown",
   "id": "c6af38a5",
   "metadata": {},
   "source": [
    "## Constructors & other special method"
   ]
  },
  {
   "cell_type": "code",
   "execution_count": 17,
   "id": "4c110d86",
   "metadata": {
    "scrolled": true
   },
   "outputs": [
    {
     "name": "stdout",
     "output_type": "stream",
     "text": [
      "red sweet\n",
      "<__main__.Apple object at 0x107d7dfd0>\n"
     ]
    }
   ],
   "source": [
    "class Apple:\n",
    "    def __init__(self, color, flavor):\n",
    "        self.color = color\n",
    "        self.flavor = flavor\n",
    "\n",
    "a1 = Apple(\"red\", \"sweet\")\n",
    "print(a1.color, a1.flavor)\n",
    "\n",
    "print(a1)"
   ]
  },
  {
   "cell_type": "markdown",
   "id": "c3f88fbe",
   "metadata": {},
   "source": [
    "PRINTING OBJECT DIRECTLY"
   ]
  },
  {
   "cell_type": "code",
   "execution_count": 18,
   "id": "c2ccc753",
   "metadata": {},
   "outputs": [
    {
     "name": "stdout",
     "output_type": "stream",
     "text": [
      "This apple is red and sweet\n"
     ]
    }
   ],
   "source": [
    "class Apple:\n",
    "    def __init__(self, color, flavor):\n",
    "        self.color = color\n",
    "        self.flavor = flavor\n",
    "    def __str__(self):\n",
    "        return \"This apple is {} and {}\".format(self.color, self.flavor)\n",
    "    \n",
    "a1 = Apple(\"red\", \"sweet\")\n",
    "print(a1)"
   ]
  },
  {
   "cell_type": "code",
   "execution_count": 19,
   "id": "8b954211",
   "metadata": {
    "collapsed": true
   },
   "outputs": [
    {
     "name": "stdout",
     "output_type": "stream",
     "text": [
      "Help on class Apple in module __main__:\n",
      "\n",
      "class Apple(builtins.object)\n",
      " |  Apple(color, flavor)\n",
      " |  \n",
      " |  Methods defined here:\n",
      " |  \n",
      " |  __init__(self, color, flavor)\n",
      " |      Initialize self.  See help(type(self)) for accurate signature.\n",
      " |  \n",
      " |  __str__(self)\n",
      " |      Return str(self).\n",
      " |  \n",
      " |  ----------------------------------------------------------------------\n",
      " |  Data descriptors defined here:\n",
      " |  \n",
      " |  __dict__\n",
      " |      dictionary for instance variables (if defined)\n",
      " |  \n",
      " |  __weakref__\n",
      " |      list of weak references to the object (if defined)\n",
      "\n"
     ]
    }
   ],
   "source": [
    "help(Apple)\n",
    "\n",
    "# Add docstring to give more info on help command"
   ]
  },
  {
   "cell_type": "markdown",
   "id": "bb65291d",
   "metadata": {},
   "source": [
    "# Code Reuse"
   ]
  },
  {
   "cell_type": "markdown",
   "id": "ebd31925",
   "metadata": {},
   "source": [
    "## Inheritance"
   ]
  },
  {
   "cell_type": "code",
   "execution_count": 20,
   "id": "4dd657f6",
   "metadata": {},
   "outputs": [
    {
     "name": "stdout",
     "output_type": "stream",
     "text": [
      "green\n",
      "sour\n"
     ]
    }
   ],
   "source": [
    "class Fruit:\n",
    "    def __init__(self, color, flavor):\n",
    "        self.color = color\n",
    "        self.flavor = flavor\n",
    "        \n",
    "class Apple(Fruit):\n",
    "    pass\n",
    "\n",
    "class Grape(Fruit):\n",
    "    pass\n",
    "\n",
    "a1 = Apple(\"green\", \"sweet\")\n",
    "print(a1.color)\n",
    "\n",
    "g1 = Grape(\"black\", \"sour\")\n",
    "print(g1.flavor)"
   ]
  },
  {
   "cell_type": "markdown",
   "id": "9c992913",
   "metadata": {},
   "source": [
    "## Composition"
   ]
  },
  {
   "cell_type": "raw",
   "id": "6302fbe5",
   "metadata": {},
   "source": [
    "You can have a situation where two different classes are related, but there is no inheritance going on. This is referred to as composition -- where one class makes use of code contained in another class. For example, imagine we have a Package class which represents a software package. It contains attributes about the software package, like name, version, and size. We also have a Repository class which represents all the packages available for installation. While there’s no inheritance relationship between the two classes, they are related. The Repository class will contain a dictionary or list of Packages that are contained in the repository. Let's take a look at an example Repository class definition:\n",
    "\n",
    ">>> class Repository:\n",
    "...      def __init__(self):\n",
    "...          self.packages = {}\n",
    "...      def add_package(self, package):\n",
    "...          self.packages[package.name] = package\n",
    "...      def total_size(self):\n",
    "...          result = 0\n",
    "...          for package in self.packages.values():\n",
    "...              result += package.size\n",
    "...          return result\n",
    "\n",
    "In the constructor method, we initialize the packages dictionary, which will contain the package objects available in this repository instance. We initialize the dictionary in the constructor to ensure that every instance of the Repository class has its own dictionary.\n",
    "\n",
    "We then define the add_package method, which takes a Package object as a parameter, and then adds it to our dictionary, using the package name attribute as the key.\n",
    "\n",
    "Finally, we define a total_size method which computes the total size of all packages contained in our repository. This method iterates through the values in our repository dictionary and adds together the size attributes from each package object contained in the dictionary, returning the total at the end. In this example, we’re making use of Package attributes within our Repository class. We’re also calling the values() method on our packages dictionary instance. Composition allows us to use objects as attributes, as well as access all their attributes and methods"
   ]
  },
  {
   "cell_type": "markdown",
   "id": "2cc4b156",
   "metadata": {},
   "source": [
    "## Python Modules"
   ]
  },
  {
   "cell_type": "code",
   "execution_count": 8,
   "id": "66a554ba",
   "metadata": {},
   "outputs": [
    {
     "name": "stdout",
     "output_type": "stream",
     "text": [
      "8\n"
     ]
    },
    {
     "data": {
      "text/plain": [
       "2"
      ]
     },
     "execution_count": 8,
     "metadata": {},
     "output_type": "execute_result"
    }
   ],
   "source": [
    "import random\n",
    "\n",
    "print(random.randint(1, 10))\n",
    "random.randint(1, 10)"
   ]
  },
  {
   "cell_type": "code",
   "execution_count": 10,
   "id": "0336ab46",
   "metadata": {
    "scrolled": true
   },
   "outputs": [
    {
     "name": "stdout",
     "output_type": "stream",
     "text": [
      "2022-07-07 16:44:27.788883\n",
      "<class 'datetime.datetime'>\n",
      "2022-07-12 16:44:27.788883\n"
     ]
    }
   ],
   "source": [
    "import datetime\n",
    "\n",
    "now = datetime.datetime.now()\n",
    "print(now)\n",
    "print(type(now))\n",
    "print(now + datetime.timedelta(days=5))"
   ]
  },
  {
   "cell_type": "markdown",
   "id": "285fd0d2",
   "metadata": {},
   "source": [
    "https://pypi.org \t\n",
    "The Python Package Index (PyPI) is a repository of software for the Python programming language."
   ]
  },
  {
   "cell_type": "code",
   "execution_count": null,
   "id": "5c8b8ce2",
   "metadata": {},
   "outputs": [],
   "source": []
  }
 ],
 "metadata": {
  "kernelspec": {
   "display_name": "Python 3 (ipykernel)",
   "language": "python",
   "name": "python3"
  },
  "language_info": {
   "codemirror_mode": {
    "name": "ipython",
    "version": 3
   },
   "file_extension": ".py",
   "mimetype": "text/x-python",
   "name": "python",
   "nbconvert_exporter": "python",
   "pygments_lexer": "ipython3",
   "version": "3.9.13"
  }
 },
 "nbformat": 4,
 "nbformat_minor": 5
}
