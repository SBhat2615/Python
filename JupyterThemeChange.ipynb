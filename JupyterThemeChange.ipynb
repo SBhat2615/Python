{
 "cells": [
  {
   "cell_type": "markdown",
   "id": "64b40941",
   "metadata": {},
   "source": [
    "## Commands"
   ]
  },
  {
   "cell_type": "code",
   "execution_count": 1,
   "id": "5204f1e0",
   "metadata": {
    "scrolled": true
   },
   "outputs": [
    {
     "name": "stdout",
     "output_type": "stream",
     "text": [
      "Available Themes: \r\n",
      "   chesterish\r\n",
      "   grade3\r\n",
      "   gruvboxd\r\n",
      "   gruvboxl\r\n",
      "   monokai\r\n",
      "   oceans16\r\n",
      "   onedork\r\n",
      "   solarizedd\r\n",
      "   solarizedl\r\n"
     ]
    }
   ],
   "source": [
    "!jt -l"
   ]
  },
  {
   "cell_type": "markdown",
   "id": "56e30b6c",
   "metadata": {},
   "source": [
    "## Reset theme"
   ]
  },
  {
   "cell_type": "code",
   "execution_count": 1,
   "id": "03fbe94f",
   "metadata": {
    "scrolled": true
   },
   "outputs": [
    {
     "name": "stdout",
     "output_type": "stream",
     "text": [
      "Reset css and font defaults in:\r\n",
      "/Users/siddhartha/.jupyter/custom &\r\n",
      "/Users/siddhartha/Library/Jupyter/nbextensions\r\n"
     ]
    }
   ],
   "source": [
    "!jt -r"
   ]
  },
  {
   "cell_type": "markdown",
   "id": "a321af2a",
   "metadata": {},
   "source": [
    "## Change theme"
   ]
  },
  {
   "cell_type": "code",
   "execution_count": 2,
   "id": "1e8887de",
   "metadata": {},
   "outputs": [],
   "source": [
    "!jt -t chesterish -T -N -kl"
   ]
  },
  {
   "cell_type": "code",
   "execution_count": 3,
   "id": "bd7160ba",
   "metadata": {},
   "outputs": [],
   "source": [
    "!jt -t grade3 -T -N -kl"
   ]
  },
  {
   "cell_type": "code",
   "execution_count": 4,
   "id": "9c2330a0",
   "metadata": {},
   "outputs": [],
   "source": [
    "!jt -t gruvboxd -T -N -kl"
   ]
  },
  {
   "cell_type": "code",
   "execution_count": 5,
   "id": "68c30d0f",
   "metadata": {},
   "outputs": [],
   "source": [
    "!jt -t monokai -T -N -kl"
   ]
  },
  {
   "cell_type": "code",
   "execution_count": 6,
   "id": "f1d44479",
   "metadata": {},
   "outputs": [],
   "source": [
    "!jt -t gruvboxl -T -N -kl"
   ]
  },
  {
   "cell_type": "code",
   "execution_count": 11,
   "id": "3529cdbf",
   "metadata": {},
   "outputs": [],
   "source": [
    "!jt -t oceans16 -T -N -kl"
   ]
  },
  {
   "cell_type": "code",
   "execution_count": 8,
   "id": "2d5dec4f",
   "metadata": {},
   "outputs": [],
   "source": [
    "!jt -t onedork -T -N -kl"
   ]
  },
  {
   "cell_type": "code",
   "execution_count": 9,
   "id": "47efd64a",
   "metadata": {},
   "outputs": [],
   "source": [
    "!jt -t solarizedd -T -N -kl"
   ]
  },
  {
   "cell_type": "code",
   "execution_count": 10,
   "id": "f3010649",
   "metadata": {},
   "outputs": [],
   "source": [
    "!jt -t solarizedl -T -N -kl"
   ]
  },
  {
   "cell_type": "code",
   "execution_count": null,
   "id": "b4a6b82a",
   "metadata": {},
   "outputs": [],
   "source": []
  }
 ],
 "metadata": {
  "kernelspec": {
   "display_name": "Python 3 (ipykernel)",
   "language": "python",
   "name": "python3"
  },
  "language_info": {
   "codemirror_mode": {
    "name": "ipython",
    "version": 3
   },
   "file_extension": ".py",
   "mimetype": "text/x-python",
   "name": "python",
   "nbconvert_exporter": "python",
   "pygments_lexer": "ipython3",
   "version": "3.9.13"
  }
 },
 "nbformat": 4,
 "nbformat_minor": 5
}
