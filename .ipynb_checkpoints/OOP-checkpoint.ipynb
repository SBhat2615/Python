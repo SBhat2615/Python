{
 "cells": [
  {
   "cell_type": "markdown",
   "id": "5d935822",
   "metadata": {},
   "source": [
    "https://www.w3schools.com/python/python_classes.asp"
   ]
  },
  {
   "cell_type": "markdown",
   "id": "04139fe4",
   "metadata": {},
   "source": [
    "# COREY SCHAFER "
   ]
  },
  {
   "cell_type": "markdown",
   "id": "35fcd23f",
   "metadata": {},
   "source": [
    "## Classes And Instances"
   ]
  },
  {
   "cell_type": "code",
   "execution_count": 5,
   "id": "0672d113",
   "metadata": {},
   "outputs": [
    {
     "name": "stdout",
     "output_type": "stream",
     "text": [
      "Siddi.Bhat@company.com\n",
      "Test.User@company.com\n"
     ]
    }
   ],
   "source": [
    "class Employee:\n",
    "    pass       \n",
    "        \n",
    "emp_1 = Employee()\n",
    "emp_2 = Employee()\n",
    "#print(emp_1, emp_2)\n",
    "\n",
    "\n",
    "emp_1.first = 'Siddi'\n",
    "emp_1.last = 'Bhat'\n",
    "emp_1.email = 'Siddi.Bhat@company.com'\n",
    "emp_1.pay = 40000\n",
    "\n",
    "emp_2.first = 'Test'\n",
    "emp_2.last = 'User'\n",
    "emp_2.email = 'Test.User@company.com'\n",
    "emp_2.pay = 50000\n",
    "\n",
    "print(emp_1.email)\n",
    "print(emp_2.email)"
   ]
  },
  {
   "cell_type": "code",
   "execution_count": 6,
   "id": "7e427d5b",
   "metadata": {},
   "outputs": [
    {
     "name": "stdout",
     "output_type": "stream",
     "text": [
      "Siddi.Bhat@company.com\n",
      "Test.User@company.com\n"
     ]
    }
   ],
   "source": [
    "class Employee:\n",
    "    \n",
    "    def __init__(self, first, last, pay):\n",
    "        self.first = first\n",
    "        self.last = last\n",
    "        self.pay = pay\n",
    "        self.email = first + '.' + last + '@company.com'\n",
    "     \n",
    "        \n",
    "emp_1 = Employee('Siddi', 'Bhat', 40000)\n",
    "emp_2 = Employee('Test', 'User', 50000)\n",
    "\n",
    "print(emp_1.email)\n",
    "print(emp_2.email)"
   ]
  },
  {
   "cell_type": "code",
   "execution_count": 10,
   "id": "c2710575",
   "metadata": {},
   "outputs": [
    {
     "name": "stdout",
     "output_type": "stream",
     "text": [
      "Siddi Bhat\n",
      "Test User\n"
     ]
    }
   ],
   "source": [
    "class Employee:\n",
    "    \n",
    "    def __init__(self, first, last, pay):\n",
    "        self.first = first\n",
    "        self.last = last\n",
    "        self.pay = pay\n",
    "        self.email = first + '.' + last + '@company.com'\n",
    "     \n",
    "    def fullname(self):       # Takes object as argument, in the place of self (Try removing)\n",
    "        return '{} {}'.format(self.first, self.last)\n",
    "    \n",
    "emp_1 = Employee('Siddi', 'Bhat', 40000)\n",
    "emp_2 = Employee('Test', 'User', 50000)\n",
    "\n",
    "print(emp_1.fullname())\n",
    "print(Employee.fullname(emp_2))"
   ]
  },
  {
   "cell_type": "markdown",
   "id": "05576b26",
   "metadata": {},
   "source": [
    "## Class Variables ****"
   ]
  },
  {
   "cell_type": "markdown",
   "id": "a6895c35",
   "metadata": {},
   "source": [
    "https://youtu.be/BJ-VvGyQxho"
   ]
  },
  {
   "cell_type": "code",
   "execution_count": 22,
   "id": "234ef158",
   "metadata": {},
   "outputs": [
    {
     "name": "stdout",
     "output_type": "stream",
     "text": [
      "40000\n",
      "41600\n"
     ]
    }
   ],
   "source": [
    "class Employee:\n",
    "    raise_amount = 1.04    # 4%\n",
    "    def __init__(self, first, last, pay):\n",
    "        self.first = first\n",
    "        self.last = last\n",
    "        self.pay = pay\n",
    "        self.email = first + '.' + last + '@company.com'\n",
    "    \n",
    "    def apply_raise(self):\n",
    "        self.pay = int(self.pay * self.raise_amount)   \n",
    "        # If Employee.raise_amount is used, raise_amount values cannot be changed for a single instance  \n",
    "        # Checkout num_of_emps variable for more clarity\n",
    "    \n",
    "    \n",
    "emp_1 = Employee('Siddi', 'Bhat', 40000)\n",
    "emp_2 = Employee('Test', 'User', 50000)\n",
    "\n",
    "print(emp_1.pay)\n",
    "emp_1.apply_raise()\n",
    "print(emp_1.pay)"
   ]
  },
  {
   "cell_type": "code",
   "execution_count": 25,
   "id": "52c37140",
   "metadata": {
    "scrolled": true
   },
   "outputs": [
    {
     "name": "stdout",
     "output_type": "stream",
     "text": [
      "{'first': 'Siddi', 'last': 'Bhat', 'pay': 41600, 'email': 'Siddi.Bhat@company.com'}\n"
     ]
    }
   ],
   "source": [
    "print(emp_1.__dict__)       \n",
    "# Doesn't have raise_amount attribute as it derives from the class"
   ]
  },
  {
   "cell_type": "code",
   "execution_count": 26,
   "id": "666f194b",
   "metadata": {
    "scrolled": true
   },
   "outputs": [
    {
     "name": "stdout",
     "output_type": "stream",
     "text": [
      "{'__module__': '__main__', 'raise_amount': 1.04, '__init__': <function Employee.__init__ at 0x10431ddc0>, 'apply_raise': <function Employee.apply_raise at 0x10431daf0>, '__dict__': <attribute '__dict__' of 'Employee' objects>, '__weakref__': <attribute '__weakref__' of 'Employee' objects>, '__doc__': None}\n"
     ]
    }
   ],
   "source": [
    "print(Employee.__dict__)"
   ]
  },
  {
   "cell_type": "code",
   "execution_count": 27,
   "id": "4c99a3a6",
   "metadata": {},
   "outputs": [
    {
     "name": "stdout",
     "output_type": "stream",
     "text": [
      "1.05\n",
      "1.05\n",
      "1.05\n"
     ]
    }
   ],
   "source": [
    "Employee.raise_amount = 1.05\n",
    "\n",
    "print(Employee.raise_amount)\n",
    "print(emp_1.raise_amount)\n",
    "print(emp_2.raise_amount)"
   ]
  },
  {
   "cell_type": "code",
   "execution_count": 28,
   "id": "39ec1b96",
   "metadata": {},
   "outputs": [
    {
     "name": "stdout",
     "output_type": "stream",
     "text": [
      "1.05\n",
      "1.06\n",
      "1.05\n"
     ]
    }
   ],
   "source": [
    "emp_1.raise_amount = 1.06\n",
    "\n",
    "print(Employee.raise_amount)\n",
    "print(emp_1.raise_amount)\n",
    "print(emp_2.raise_amount)"
   ]
  },
  {
   "cell_type": "code",
   "execution_count": 31,
   "id": "7a37d763",
   "metadata": {},
   "outputs": [
    {
     "name": "stdout",
     "output_type": "stream",
     "text": [
      "{'first': 'Siddi', 'last': 'Bhat', 'pay': 41600, 'email': 'Siddi.Bhat@company.com', 'raise_amount': 1.06}\n"
     ]
    }
   ],
   "source": [
    "print(emp_1.__dict__)   \n",
    "# Now has raise_amount attribute\n",
    "\n",
    "# print(emp_2.__dict__) \n",
    "# But not emp_2"
   ]
  },
  {
   "cell_type": "code",
   "execution_count": 48,
   "id": "8d562673",
   "metadata": {
    "tags": [
     "STAR"
    ]
   },
   "outputs": [
    {
     "name": "stdout",
     "output_type": "stream",
     "text": [
      "0\n",
      "2\n"
     ]
    }
   ],
   "source": [
    "# Difference btw self. & Employee.\n",
    "\n",
    "class Employee:\n",
    "    num_of_emps = 0\n",
    "    \n",
    "    def __init__(self):\n",
    "        Employee.num_of_emps += 1    # Global\n",
    "        # self.num_of_emps += 1      # Local\n",
    "        \n",
    "        \n",
    "print(Employee.num_of_emps)\n",
    "\n",
    "emp_1 = Employee()\n",
    "emp_2 = Employee()\n",
    "\n",
    "print(Employee.num_of_emps)\n",
    "# print(emp_1.num_of_emps, emp_2.num_of_emps)"
   ]
  },
  {
   "cell_type": "markdown",
   "id": "e6dbd06f",
   "metadata": {},
   "source": [
    "## Class Methods & Static Methods"
   ]
  },
  {
   "cell_type": "markdown",
   "id": "4e03c63d",
   "metadata": {},
   "source": [
    "CLASS METHODS"
   ]
  },
  {
   "cell_type": "code",
   "execution_count": 12,
   "id": "0eef72ea",
   "metadata": {},
   "outputs": [
    {
     "name": "stdout",
     "output_type": "stream",
     "text": [
      "1.05\n",
      "1.05\n",
      "1.05\n"
     ]
    }
   ],
   "source": [
    "# Class methods\n",
    "\n",
    "class Employee:\n",
    "    \n",
    "    raise_amount = 1.04\n",
    "    \n",
    "    def __init__(self, first, last, pay):\n",
    "        self.first = first\n",
    "        self.last = last\n",
    "        self.pay = pay\n",
    "        self.email = first + '.' + last + '@company.com'\n",
    "    \n",
    "    def apply_raise(self):\n",
    "        self.pay = int(self.pay * self.raise_amount)   \n",
    "    \n",
    "    @classmethod\n",
    "    def set_raise_amt(cls, amount):\n",
    "        cls.raise_amount = amount\n",
    "        \n",
    "\n",
    "Employee.set_raise_amt(1.05)     # Same as Employee.raise_amount = 1.05\n",
    "\n",
    "print(Employee.raise_amount)\n",
    "print(emp_1.raise_amount)\n",
    "print(emp_2.raise_amount)"
   ]
  },
  {
   "cell_type": "code",
   "execution_count": 13,
   "id": "a84b726d",
   "metadata": {},
   "outputs": [
    {
     "name": "stdout",
     "output_type": "stream",
     "text": [
      "1.06\n",
      "1.06\n",
      "1.06\n"
     ]
    }
   ],
   "source": [
    "# Even works with instance\n",
    "\n",
    "emp_1.set_raise_amt(1.06)\n",
    "\n",
    "print(Employee.raise_amount)\n",
    "print(emp_1.raise_amount)\n",
    "print(emp_2.raise_amount)"
   ]
  },
  {
   "cell_type": "code",
   "execution_count": 16,
   "id": "c439d6c7",
   "metadata": {},
   "outputs": [
    {
     "name": "stdout",
     "output_type": "stream",
     "text": [
      "John.Doe@company.com\n",
      "70000\n"
     ]
    }
   ],
   "source": [
    "# EXAMPLE, USER NEED NOT PARSE THE STRING MANUALLY\n",
    "\n",
    "class Employee:\n",
    "    \n",
    "    raise_amount = 1.04\n",
    "    \n",
    "    def __init__(self, first, last, pay):\n",
    "        self.first = first\n",
    "        self.last = last\n",
    "        self.pay = pay\n",
    "        self.email = first + '.' + last + '@company.com'\n",
    "    \n",
    "    def apply_raise(self):\n",
    "        self.pay = int(self.pay * self.raise_amount)   \n",
    "    \n",
    "    @classmethod\n",
    "    def from_string(cls, emp_str):\n",
    "        first, last, pay = emp_str.split('-')\n",
    "        return cls(first, last, pay)                   # As additional constructors   \n",
    "        \n",
    "\n",
    "emp_str_1 = 'John-Doe-70000'\n",
    "emp_str_2 = 'Steve-Smith-30000'\n",
    "\n",
    "new_emp_1 = Employee.from_string(emp_str_1)   # Instead of splitting manually & using Employee(first, last, pay) class\n",
    "\n",
    "print(new_emp_1.email)\n",
    "print(new_emp_1.pay)"
   ]
  },
  {
   "cell_type": "markdown",
   "id": "742bdf6b",
   "metadata": {},
   "source": [
    "STATIC METHODS"
   ]
  },
  {
   "cell_type": "code",
   "execution_count": 18,
   "id": "0181b085",
   "metadata": {},
   "outputs": [],
   "source": [
    "\n",
    "class Employee:\n",
    "    \n",
    "    raise_amount = 1.04\n",
    "    \n",
    "    def __init__(self, first, last, pay):\n",
    "        self.first = first\n",
    "        self.last = last\n",
    "        self.pay = pay\n",
    "        self.email = first + '.' + last + '@company.com'\n",
    "    \n",
    "    def apply_raise(self):\n",
    "        self.pay = int(self.pay * self.raise_amount)   \n",
    "    \n",
    "    @classmethod\n",
    "    def from_string(cls, emp_str):\n",
    "        first, last, pay = emp_str.split('-')\n",
    "        return cls(first, last, pay)                   # As additional constructors\n",
    "    \n",
    "    @staticmethod\n",
    "    def is_workday(day):\n",
    "        if day.weekday() == 5 or day.weekday() == 6:        # Saturday or Sunday\n",
    "            return False\n",
    "        return True"
   ]
  },
  {
   "cell_type": "code",
   "execution_count": 19,
   "id": "2426ea01",
   "metadata": {},
   "outputs": [
    {
     "name": "stdout",
     "output_type": "stream",
     "text": [
      "True\n"
     ]
    }
   ],
   "source": [
    "import datetime\n",
    "my_date = datetime.date(2023, 1, 3)\n",
    "\n",
    "print(Employee.is_workday(my_date))"
   ]
  },
  {
   "cell_type": "markdown",
   "id": "bf3f581f",
   "metadata": {},
   "source": [
    "NOTE:\n",
    "\n",
    "1. REGULAR METHODS - SELF\n",
    "2. CLASS METHODS - CLS\n",
    "3. STATIC METHODS - NOTHING"
   ]
  },
  {
   "cell_type": "markdown",
   "id": "3a0cfa84",
   "metadata": {},
   "source": [
    "## INHERITANCE"
   ]
  },
  {
   "cell_type": "markdown",
   "id": "e6aa0e38",
   "metadata": {},
   "source": [
    "https://www.youtube.com/watch?v=RSl87lqOXDE&list=PL-osiE80TeTsqhIuOqKhwlXsIBIdSeYtc&index=10"
   ]
  },
  {
   "cell_type": "code",
   "execution_count": 20,
   "id": "f8e8cb85",
   "metadata": {},
   "outputs": [
    {
     "name": "stdout",
     "output_type": "stream",
     "text": [
      "Siddi.Bhat@company.com\n",
      "Test.User@company.com\n"
     ]
    }
   ],
   "source": [
    "class Employee:\n",
    "    \n",
    "    def __init__(self, first, last, pay):\n",
    "        self.first = first\n",
    "        self.last = last\n",
    "        self.pay = pay\n",
    "        self.email = first + '.' + last + '@company.com'\n",
    "     \n",
    "    def fullname(self):       # Takes object as argument, in the place of self (Try removing)\n",
    "        return '{} {}'.format(self.first, self.last)\n",
    "\n",
    "    def apply_raise(self):\n",
    "        self.pay = int(self.pay * self.raise_amount)\n",
    "        \n",
    "        \n",
    "class Developer(Employee):\n",
    "    pass\n",
    "\n",
    "dev_1 = Developer('Siddi', 'Bhat', 40000)\n",
    "dev_2 = Developer('Test', 'User', 50000)\n",
    "\n",
    "print(dev_1.email)\n",
    "print(dev_2.email)"
   ]
  },
  {
   "cell_type": "code",
   "execution_count": 21,
   "id": "e6c15e0f",
   "metadata": {},
   "outputs": [
    {
     "name": "stdout",
     "output_type": "stream",
     "text": [
      "Help on class Developer in module __main__:\n",
      "\n",
      "class Developer(Employee)\n",
      " |  Developer(first, last, pay)\n",
      " |  \n",
      " |  Method resolution order:\n",
      " |      Developer\n",
      " |      Employee\n",
      " |      builtins.object\n",
      " |  \n",
      " |  Methods inherited from Employee:\n",
      " |  \n",
      " |  __init__(self, first, last, pay)\n",
      " |      Initialize self.  See help(type(self)) for accurate signature.\n",
      " |  \n",
      " |  apply_raise(self)\n",
      " |  \n",
      " |  fullname(self)\n",
      " |  \n",
      " |  ----------------------------------------------------------------------\n",
      " |  Data descriptors inherited from Employee:\n",
      " |  \n",
      " |  __dict__\n",
      " |      dictionary for instance variables (if defined)\n",
      " |  \n",
      " |  __weakref__\n",
      " |      list of weak references to the object (if defined)\n",
      "\n",
      "None\n"
     ]
    }
   ],
   "source": [
    "print(help(Developer))"
   ]
  },
  {
   "cell_type": "code",
   "execution_count": null,
   "id": "e816ebf5",
   "metadata": {},
   "outputs": [],
   "source": []
  },
  {
   "cell_type": "code",
   "execution_count": null,
   "id": "618d1347",
   "metadata": {},
   "outputs": [],
   "source": []
  },
  {
   "cell_type": "markdown",
   "id": "266e51fe",
   "metadata": {},
   "source": [
    "## SPECIAL (MAGIC/DUNDER) METHODS"
   ]
  },
  {
   "cell_type": "markdown",
   "id": "584a12d8",
   "metadata": {},
   "source": [
    "https://www.youtube.com/watch?v=3ohzBxoFHAY&list=PL-osiE80TeTsqhIuOqKhwlXsIBIdSeYtc&index=6"
   ]
  },
  {
   "cell_type": "markdown",
   "id": "e6e5edbd",
   "metadata": {},
   "source": [
    "https://docs.python.org/3/reference/datamodel.html#special-method-names"
   ]
  },
  {
   "cell_type": "code",
   "execution_count": 11,
   "id": "bebbb472",
   "metadata": {},
   "outputs": [
    {
     "name": "stdout",
     "output_type": "stream",
     "text": [
      "Siddi Bhat - Siddi.Bhat@company.com\n",
      "Siddi.Bhat@company.com\n",
      "Test.User@company.com\n"
     ]
    }
   ],
   "source": [
    "class Employee:\n",
    "    \n",
    "    def __init__(self, first, last, pay):\n",
    "        self.first = first\n",
    "        self.last = last\n",
    "        self.pay = pay\n",
    "        self.email = first + '.' + last + '@company.com'\n",
    "     \n",
    "    def fullname(self):       # Takes object as argument, in the place of self (Try removing)\n",
    "        return '{} {}'.format(self.first, self.last)\n",
    "\n",
    "    def apply_raise(self):\n",
    "        self.pay = int(self.pay * self.raise_amount)\n",
    "        \n",
    "    def __repr__(self):\n",
    "        return \"Employee('{}', '{}', '{}')\".format(self.first, self.last, self.pay)\n",
    "    \n",
    "    def __str__(self):\n",
    "        return '{} - {}'.format(self.fullname(), self.email)\n",
    "    \n",
    "\n",
    "emp_1 = Employee('Siddi', 'Bhat', 40000)\n",
    "emp_2 = Employee('Test', 'User', 50000)\n",
    "\n",
    "print(emp_1)\n",
    "\n",
    "print(emp_1.email)\n",
    "print(emp_2.email)"
   ]
  },
  {
   "cell_type": "code",
   "execution_count": 12,
   "id": "704b2eab",
   "metadata": {},
   "outputs": [
    {
     "name": "stdout",
     "output_type": "stream",
     "text": [
      "Employee('Siddi', 'Bhat', '40000')\n",
      "Test User - Test.User@company.com\n"
     ]
    }
   ],
   "source": [
    "print(repr(dev_1))\n",
    "print(str(dev_2))"
   ]
  },
  {
   "cell_type": "code",
   "execution_count": 13,
   "id": "a941f63b",
   "metadata": {},
   "outputs": [
    {
     "name": "stdout",
     "output_type": "stream",
     "text": [
      "Employee('Siddi', 'Bhat', '40000')\n",
      "Test User - Test.User@company.com\n"
     ]
    }
   ],
   "source": [
    "print(dev_1.__repr__())\n",
    "print(dev_2.__str__())"
   ]
  },
  {
   "cell_type": "code",
   "execution_count": 15,
   "id": "717a0852",
   "metadata": {},
   "outputs": [
    {
     "name": "stdout",
     "output_type": "stream",
     "text": [
      "3\n",
      "3\n",
      "ab\n",
      "ab\n"
     ]
    }
   ],
   "source": [
    "# SOME OTHER METHODS\n",
    "\n",
    "print(1+2)\n",
    "print(int.__add__(1, 2))\n",
    "\n",
    "\n",
    "print('a'+'b')\n",
    "print(str.__add__('a', 'b'))"
   ]
  },
  {
   "cell_type": "code",
   "execution_count": 20,
   "id": "f9982ccf",
   "metadata": {},
   "outputs": [
    {
     "name": "stdout",
     "output_type": "stream",
     "text": [
      "90000\n"
     ]
    }
   ],
   "source": [
    "# OTHER METHODS\n",
    "\n",
    "class Employee:\n",
    "    \n",
    "    def __init__(self, first, last, pay):\n",
    "        self.first = first\n",
    "        self.last = last\n",
    "        self.pay = pay\n",
    "        self.email = first + '.' + last + '@company.com'\n",
    "     \n",
    "    \n",
    "    def __add__(self, other):\n",
    "        return self.pay + other.pay\n",
    "    \n",
    "\n",
    "emp_1 = Employee('Siddi', 'Bhat', 40000)\n",
    "emp_2 = Employee('Test', 'User', 50000)\n",
    "\n",
    "print(emp_1 + emp_2)"
   ]
  },
  {
   "cell_type": "code",
   "execution_count": null,
   "id": "470bdc6d",
   "metadata": {},
   "outputs": [],
   "source": []
  },
  {
   "cell_type": "code",
   "execution_count": null,
   "id": "a0a25c05",
   "metadata": {},
   "outputs": [],
   "source": []
  },
  {
   "cell_type": "markdown",
   "id": "895da263",
   "metadata": {},
   "source": [
    "## PROPERTY DECORATORS"
   ]
  },
  {
   "cell_type": "code",
   "execution_count": null,
   "id": "32f9a1a8",
   "metadata": {},
   "outputs": [],
   "source": []
  }
 ],
 "metadata": {
  "kernelspec": {
   "display_name": "Python 3 (ipykernel)",
   "language": "python",
   "name": "python3"
  },
  "language_info": {
   "codemirror_mode": {
    "name": "ipython",
    "version": 3
   },
   "file_extension": ".py",
   "mimetype": "text/x-python",
   "name": "python",
   "nbconvert_exporter": "python",
   "pygments_lexer": "ipython3",
   "version": "3.9.16"
  }
 },
 "nbformat": 4,
 "nbformat_minor": 5
}
